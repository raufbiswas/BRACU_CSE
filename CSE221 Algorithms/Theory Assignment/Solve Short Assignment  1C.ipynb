{
 "cells": [
  {
   "cell_type": "code",
   "execution_count": 5,
   "metadata": {},
   "outputs": [
    {
     "name": "stdout",
     "output_type": "stream",
     "text": [
      "Maximum revenue (dynamic programming iterative): 22\n"
     ]
    }
   ],
   "source": [
    "def calculateRevenueDP(n, maxSpace, K):\n",
    "    dp = [[0] * (maxSpace + 1) for _ in range(n + 1)]\n",
    "\n",
    "    for i in range(1, n + 1):\n",
    "        for space in range(1, maxSpace + 1):\n",
    "            if RequiredSpace[i - 1] <= space:\n",
    "                r2 = dp[i - 1][space]\n",
    "                r1 = dp[i - 1][space - RequiredSpace[i - 1]] + Value[i - 1]\n",
    "                dp[i][space] = max(r2, r1)\n",
    "                if K > 0 and RequiredSpace[i - 1] // 2 <= space:\n",
    "                    hsr = dp[i - 1][space - RequiredSpace[i - 1] // 2] + Value[i - 1]\n",
    "                    dp[i][space] = max(dp[i][space], hsr)\n",
    "            else:\n",
    "                dp[i][space] = dp[i - 1][space]\n",
    "\n",
    "    return dp[n][maxSpace]\n",
    "\n",
    "Value = [10, 12, 8, 6]\n",
    "RequiredSpace = [4, 5, 6, 6]\n",
    "maxAvailableSpace = 7\n",
    "K = 1\n",
    "print(\"Maximum revenue (dynamic programming iterative):\", calculateRevenueDP(len(Value), maxAvailableSpace, K))"
   ]
  },
  {
   "cell_type": "code",
   "execution_count": 4,
   "metadata": {},
   "outputs": [
    {
     "name": "stdout",
     "output_type": "stream",
     "text": [
      "Maximum revenue (recursive with memoization): 22\n"
     ]
    }
   ],
   "source": [
    "def calculateRevenue(index, space, K, memo):\n",
    "    if (index, space) in memo:\n",
    "        return memo[(index, space)]\n",
    "    \n",
    "    if index == 0 or space == 0:\n",
    "        return 0\n",
    "\n",
    "    if RequiredSpace[index - 1] > space:\n",
    "        result = calculateRevenue(index - 1, space, K, memo)\n",
    "    else:\n",
    "        revenueWithoutCurrent = calculateRevenue(index - 1, space, K, memo)\n",
    "        revenueWithCurrent = calculateRevenue(index - 1, space - RequiredSpace[index - 1], K, memo) + Value[index - 1]\n",
    "        result = max(revenueWithoutCurrent, revenueWithCurrent)\n",
    "        if K > 0 and RequiredSpace[index - 1] // 2 <= space:\n",
    "            revenueWithHalfSize = calculateRevenue(index - 1, space - RequiredSpace[index - 1] // 2, K, memo) + Value[index - 1]\n",
    "            result = max(result, revenueWithHalfSize)\n",
    "    \n",
    "    memo[(index, space)] = result\n",
    "    return result\n",
    "\n",
    "Value = [10, 12, 8, 6]\n",
    "RequiredSpace = [4, 5, 6, 6]\n",
    "maxAvailableSpace = 7\n",
    "K = 1\n",
    "memo = {}\n",
    "print(\"Maximum revenue (recursive with memoization):\", calculateRevenue(len(Value), maxAvailableSpace, K, memo))"
   ]
  }
 ],
 "metadata": {
  "kernelspec": {
   "display_name": "Python 3",
   "language": "python",
   "name": "python3"
  },
  "language_info": {
   "codemirror_mode": {
    "name": "ipython",
    "version": 3
   },
   "file_extension": ".py",
   "mimetype": "text/x-python",
   "name": "python",
   "nbconvert_exporter": "python",
   "pygments_lexer": "ipython3",
   "version": "3.12.1"
  }
 },
 "nbformat": 4,
 "nbformat_minor": 2
}
