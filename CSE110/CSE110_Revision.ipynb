{
  "cells": [
    {
      "cell_type": "markdown",
      "metadata": {
        "colab_type": "text",
        "id": "view-in-github"
      },
      "source": [
        "<a href=\"https://colab.research.google.com/github/raufbiswas/CSE/blob/main/CSE110_Revision.ipynb\" target=\"_parent\"><img src=\"https://colab.research.google.com/assets/colab-badge.svg\" alt=\"Open In Colab\"/></a>"
      ]
    },
    {
      "cell_type": "markdown",
      "metadata": {
        "id": "0PYDfW_g1elF"
      },
      "source": [
        "#LAB1"
      ]
    },
    {
      "cell_type": "code",
      "execution_count": null,
      "metadata": {
        "colab": {
          "base_uri": "https://localhost:8080/"
        },
        "id": "45mIblKd83GF",
        "outputId": "27d9c4c8-2033-465f-8393-eea23b9ed42d"
      },
      "outputs": [
        {
          "name": "stdout",
          "output_type": "stream",
          "text": [
            "hello world\n"
          ]
        }
      ],
      "source": [
        "print(\"hello world\")"
      ]
    },
    {
      "cell_type": "code",
      "execution_count": null,
      "metadata": {
        "colab": {
          "base_uri": "https://localhost:8080/"
        },
        "id": "K_GL29tRAjq8",
        "outputId": "48dfecbf-7f5a-4512-acc1-0cc1d691aeac"
      },
      "outputs": [
        {
          "name": "stdout",
          "output_type": "stream",
          "text": [
            "110\n"
          ]
        }
      ],
      "source": [
        "print(54+56)"
      ]
    },
    {
      "cell_type": "code",
      "execution_count": null,
      "metadata": {
        "colab": {
          "base_uri": "https://localhost:8080/"
        },
        "id": "rZ9tpk-BBy7S",
        "outputId": "74102c70-2754-4c9f-f145-82925066972a"
      },
      "outputs": [
        {
          "name": "stdout",
          "output_type": "stream",
          "text": [
            "Summer\n",
            "2023\n"
          ]
        }
      ],
      "source": [
        "season = \"Summer\"\n",
        "year = 2023\n",
        "print(f\"{season}\\n{year}\")"
      ]
    },
    {
      "cell_type": "code",
      "execution_count": null,
      "metadata": {
        "colab": {
          "base_uri": "https://localhost:8080/"
        },
        "id": "nMNfz4G5Ca6l",
        "outputId": "b7a3e4e0-7bba-4196-e3c6-0622d3535997"
      },
      "outputs": [
        {
          "name": "stdout",
          "output_type": "stream",
          "text": [
            "John\n",
            "Your name is John\n"
          ]
        }
      ],
      "source": [
        "print(f\"Your name is {input()}\")"
      ]
    },
    {
      "cell_type": "code",
      "execution_count": null,
      "metadata": {
        "colab": {
          "base_uri": "https://localhost:8080/"
        },
        "id": "Ku173rioCrKB",
        "outputId": "81195f65-a8f3-4b37-9ef2-4f7c02a77eff"
      },
      "outputs": [
        {
          "name": "stdout",
          "output_type": "stream",
          "text": [
            "2\n",
            "3\n",
            "2^3: 8\n"
          ]
        }
      ],
      "source": [
        "num1 = int(input())\n",
        "num2 = int(input())\n",
        "print(f\"{num1}^{num2}: {num1**num2}\")"
      ]
    },
    {
      "cell_type": "code",
      "execution_count": null,
      "metadata": {
        "colab": {
          "base_uri": "https://localhost:8080/"
        },
        "id": "A-No8jK9EnLQ",
        "outputId": "b6875d31-b32b-4905-e9e9-40428b5e616f"
      },
      "outputs": [
        {
          "name": "stdout",
          "output_type": "stream",
          "text": [
            "11\n",
            "8\n"
          ]
        }
      ],
      "source": [
        "a = int(input())\n",
        "print(a - a%4)"
      ]
    },
    {
      "cell_type": "code",
      "execution_count": null,
      "metadata": {
        "colab": {
          "base_uri": "https://localhost:8080/"
        },
        "id": "9QSzy1BfscsV",
        "outputId": "365dafc3-9bb5-4aa4-ca6f-5ee647a715e8"
      },
      "outputs": [
        {
          "name": "stdout",
          "output_type": "stream",
          "text": [
            "88\n",
            "22\n",
            "1\n",
            "3.3\n",
            "2022\n"
          ]
        }
      ],
      "source": [
        "a = int(input())\n",
        "b = int(input())\n",
        "c = int(input())\n",
        "d = float(input())\n",
        "print(int(a**c + b*a - d/3))"
      ]
    },
    {
      "cell_type": "code",
      "execution_count": null,
      "metadata": {
        "colab": {
          "base_uri": "https://localhost:8080/"
        },
        "id": "EdHHpFHPtQTe",
        "outputId": "1462830a-0ab8-49ad-a74a-f2870cde5e24"
      },
      "outputs": [
        {
          "name": "stdout",
          "output_type": "stream",
          "text": [
            "90\n",
            "Each friend will get 30 chocolates\n",
            "The number of remaining chocolates is 0\n"
          ]
        }
      ],
      "source": [
        "num = int(input())\n",
        "print(f\"Each friend will get {num//3} chocolates\")\n",
        "print(f\"The number of remaining chocolates is {num%3}\")"
      ]
    },
    {
      "cell_type": "code",
      "execution_count": null,
      "metadata": {
        "colab": {
          "base_uri": "https://localhost:8080/"
        },
        "id": "7n7OVzSxuFqz",
        "outputId": "a147be93-efb3-4049-8df6-905e1599dcc9"
      },
      "outputs": [
        {
          "name": "stdout",
          "output_type": "stream",
          "text": [
            "5\n",
            "2\n",
            "25\n"
          ]
        }
      ],
      "source": [
        "M = input()\n",
        "N = input()\n",
        "print(N+M)"
      ]
    },
    {
      "cell_type": "code",
      "execution_count": null,
      "metadata": {
        "colab": {
          "base_uri": "https://localhost:8080/"
        },
        "id": "Eq6oRJAqumQy",
        "outputId": "c206853f-18a0-4153-c6d2-660d8f067bdb"
      },
      "outputs": [
        {
          "name": "stdout",
          "output_type": "stream",
          "text": [
            "3\n",
            "11.57\n",
            "7\n",
            "The input is: 3, 11.57, 7\n",
            "The result is 14.577\n"
          ]
        }
      ],
      "source": [
        "int1 = int(input())\n",
        "flot = float(input())\n",
        "int2 = int(input())\n",
        "sum = int1+flot\n",
        "print(f\"The input is: {int1}, {flot}, {int2}\")\n",
        "print(f\"The result is {str(sum)+str(int2)}\")"
      ]
    },
    {
      "cell_type": "code",
      "execution_count": null,
      "metadata": {
        "colab": {
          "base_uri": "https://localhost:8080/"
        },
        "id": "CTDGs_p4vttb",
        "outputId": "9a73e779-b327-40b6-9e4b-b944c89a57eb"
      },
      "outputs": [
        {
          "name": "stdout",
          "output_type": "stream",
          "text": [
            "5\n",
            "False\n"
          ]
        }
      ],
      "source": [
        "num = int(input())\n",
        "if num%2 == 0:\n",
        "    print(True)\n",
        "else:\n",
        "    print(False)"
      ]
    },
    {
      "cell_type": "markdown",
      "metadata": {
        "id": "_pstjKIW1qda"
      },
      "source": [
        "#LAB2"
      ]
    },
    {
      "cell_type": "code",
      "execution_count": null,
      "metadata": {
        "colab": {
          "base_uri": "https://localhost:8080/"
        },
        "id": "J_dzvMdrwobj",
        "outputId": "2a6fdb83-1672-4b45-acb5-94f528048f3b"
      },
      "outputs": [
        {
          "name": "stdout",
          "output_type": "stream",
          "text": [
            "4\n",
            "5\n",
            "Sum = 9\n",
            "Product = 20\n",
            "Difference = -1\n"
          ]
        }
      ],
      "source": [
        "num1 = int(input())\n",
        "num2 = int(input())\n",
        "print(f\"Sum = {num1+num2}\\nProduct = {num1*num2}\\nDifference = {num1-num2}\")"
      ]
    },
    {
      "cell_type": "code",
      "execution_count": null,
      "metadata": {
        "colab": {
          "base_uri": "https://localhost:8080/"
        },
        "id": "f3se4U6kQMgw",
        "outputId": "f09d8dec-b2e4-4d40-843c-f6086877fa82"
      },
      "outputs": [
        {
          "name": "stdout",
          "output_type": "stream",
          "text": [
            "4\n",
            "Area is 50.26548245743669\n",
            "Circumference is 25.132741228718345\n"
          ]
        }
      ],
      "source": [
        "import math\n",
        "radi = float(input())\n",
        "print(f\"Area is {math.pi*radi**2}\\nCircumference is {2*math.pi*radi}\")"
      ]
    },
    {
      "cell_type": "code",
      "execution_count": null,
      "metadata": {
        "colab": {
          "base_uri": "https://localhost:8080/"
        },
        "id": "whV2X0rpQwlx",
        "outputId": "8d64ab04-108c-483b-bea4-b7dd12069da6"
      },
      "outputs": [
        {
          "name": "stdout",
          "output_type": "stream",
          "text": [
            "11\n",
            "11\n",
            "The numbers are equal\n"
          ]
        }
      ],
      "source": [
        "num1 = int(input())\n",
        "num2 = int(input())\n",
        "sum = num1-num2\n",
        "if sum>0:\n",
        "    print(\"First is greater\")\n",
        "elif sum<0:\n",
        "    print(\"Second is greater\")\n",
        "else:\n",
        "    print(\"The numbers are equal\")"
      ]
    },
    {
      "cell_type": "code",
      "execution_count": null,
      "metadata": {
        "colab": {
          "base_uri": "https://localhost:8080/"
        },
        "id": "nEjp_YF8RaE9",
        "outputId": "744846dc-941c-4396-b0e8-6004d70465d0"
      },
      "outputs": [
        {
          "name": "stdout",
          "output_type": "stream",
          "text": [
            "5\n",
            "5\n",
            "0\n"
          ]
        }
      ],
      "source": [
        "num1 = int(input())\n",
        "num2 = int(input())\n",
        "sum = num1-num2\n",
        "if sum>=0:\n",
        "    print(num1-num2)\n",
        "else:\n",
        "    print(num2-num1)"
      ]
    },
    {
      "cell_type": "code",
      "execution_count": null,
      "metadata": {
        "colab": {
          "base_uri": "https://localhost:8080/"
        },
        "id": "1zXrPGMCSX9f",
        "outputId": "e4b753cf-8035-4264-ea7c-9f576716b67a"
      },
      "outputs": [
        {
          "name": "stdout",
          "output_type": "stream",
          "text": [
            "-44\n",
            "The number is even\n"
          ]
        }
      ],
      "source": [
        "num = int(input())\n",
        "if num%2 == 0:\n",
        "    print(\"The number is even\")\n",
        "else:\n",
        "    print(\"The number is odd\")"
      ]
    },
    {
      "cell_type": "code",
      "execution_count": null,
      "metadata": {
        "colab": {
          "base_uri": "https://localhost:8080/"
        },
        "id": "eTsc_qqOStiC",
        "outputId": "e32e6351-d053-4613-bab6-1f40cb8dc608"
      },
      "outputs": [
        {
          "name": "stdout",
          "output_type": "stream",
          "text": [
            "3\n",
            "Not a multiple of 2 OR 5\n"
          ]
        }
      ],
      "source": [
        "num = int(input())\n",
        "if num%2 == 0 or num%5 == 0:\n",
        "    print(num)\n",
        "else:\n",
        "    print(\"Not a multiple of 2 OR 5\")"
      ]
    },
    {
      "cell_type": "code",
      "execution_count": null,
      "metadata": {
        "colab": {
          "base_uri": "https://localhost:8080/"
        },
        "id": "p7HT_C1fTH4y",
        "outputId": "cbb60ec5-5d26-4634-da8f-ec0d14c80607"
      },
      "outputs": [
        {
          "name": "stdout",
          "output_type": "stream",
          "text": [
            "17\n",
            "Not a multiple we want\n"
          ]
        }
      ],
      "source": [
        "num = int(input())\n",
        "if num%2 == 0 and num%5 == 0:\n",
        "    print(\"Multiple of 2 and 5 both\")\n",
        "elif num%2 == 0 or num%5 == 0:\n",
        "    print(num)\n",
        "else:\n",
        "    print(\"Not a multiple we want\")"
      ]
    },
    {
      "cell_type": "code",
      "execution_count": null,
      "metadata": {
        "colab": {
          "base_uri": "https://localhost:8080/"
        },
        "id": "YJb1WyD_Tv7O",
        "outputId": "dc9a699b-948c-46fc-b329-82fc9a5ed698"
      },
      "outputs": [
        {
          "name": "stdout",
          "output_type": "stream",
          "text": [
            "6\n",
            "Not multiple of 2 and 5 both\n"
          ]
        }
      ],
      "source": [
        "num = int(input())\n",
        "if num%2 == 0 and num%5 == 0:\n",
        "    print(num)\n",
        "else:\n",
        "    print(\"Not multiple of 2 and 5 both\")"
      ]
    },
    {
      "cell_type": "code",
      "execution_count": null,
      "metadata": {
        "colab": {
          "base_uri": "https://localhost:8080/"
        },
        "id": "RXajJUYcUI9E",
        "outputId": "9b8ed525-58d4-403c-c3e9-74d002c16ab0"
      },
      "outputs": [
        {
          "name": "stdout",
          "output_type": "stream",
          "text": [
            "500\n",
            "Hours: 0 Minutes: 8 Seconds: 20\n"
          ]
        }
      ],
      "source": [
        "sec = int(input())\n",
        "hours = sec//3600\n",
        "minutes = (sec%3600)//60\n",
        "seconds = (sec%3600)%60\n",
        "print(f\"Hours: {hours} Minutes: {minutes} Seconds: {seconds}\")"
      ]
    },
    {
      "cell_type": "code",
      "execution_count": null,
      "metadata": {
        "colab": {
          "base_uri": "https://localhost:8080/"
        },
        "id": "Veut_EP9q_HK",
        "outputId": "203685bb-734f-4ad1-a5ee-847ed78ff2fc"
      },
      "outputs": [
        {
          "name": "stdout",
          "output_type": "stream",
          "text": [
            "169\n",
            "Impossible to work more than 168 hours weekly\n"
          ]
        }
      ],
      "source": [
        "wh = int(input())\n",
        "if wh < 0:\n",
        "    print(\"Hour cannot be negative\")\n",
        "elif wh > 168:\n",
        "    print(\"Impossible to work more than 168 hours weekly\")\n",
        "else:\n",
        "    if wh <= 40:\n",
        "        print(wh*200)\n",
        "    else:\n",
        "        print(8000+(wh-40)*300)"
      ]
    },
    {
      "cell_type": "code",
      "execution_count": null,
      "metadata": {
        "colab": {
          "base_uri": "https://localhost:8080/"
        },
        "id": "0xzTekbDsN9h",
        "outputId": "29cbcee2-c7ba-41ae-82c6-70d9c7210a7c"
      },
      "outputs": [
        {
          "name": "stdout",
          "output_type": "stream",
          "text": [
            "3\n",
            "1875\n"
          ]
        }
      ],
      "source": [
        "s = int(input())\n",
        "if s < 100:\n",
        "    print(3000-(125*s**2))\n",
        "else:\n",
        "    print(12000/(4+(s**2/14900)))"
      ]
    },
    {
      "cell_type": "code",
      "execution_count": null,
      "metadata": {
        "colab": {
          "base_uri": "https://localhost:8080/"
        },
        "id": "po2xZMNvR7n0",
        "outputId": "8d82bda8-7a37-40db-8b0e-e3064ac71dc2"
      },
      "outputs": [
        {
          "name": "stdout",
          "output_type": "stream",
          "text": [
            "16.30\n",
            "Snacks\n"
          ]
        }
      ],
      "source": [
        "time = float(input())\n",
        "if 0>time or time>=24:\n",
        "    print(\"Wrong time\")\n",
        "elif 6>=time>=4:\n",
        "    print(\"Breakfast\")\n",
        "elif 13>=time>=12:\n",
        "    print(\"Lunch\")\n",
        "elif 17>=time>=16:\n",
        "    print(\"Snacks\")\n",
        "elif 20>=time>=19:\n",
        "    print(\"Dinner\")\n",
        "else:\n",
        "    print(\"Patience is a virtue\")"
      ]
    },
    {
      "cell_type": "code",
      "execution_count": null,
      "metadata": {
        "colab": {
          "base_uri": "https://localhost:8080/"
        },
        "id": "5mPA0LR0WUmM",
        "outputId": "94174bdc-acf2-4ec0-f612-72a41a9a895f"
      },
      "outputs": [
        {
          "name": "stdout",
          "output_type": "stream",
          "text": [
            "50\n",
            "E\n"
          ]
        }
      ],
      "source": [
        "mark = int(input())\n",
        "if mark<0 or mark>100:\n",
        "    print(\"A student can't get negative or more than 100 marks.\")\n",
        "elif mark>=90:\n",
        "    print(\"A\")\n",
        "elif 89>=mark>=80:\n",
        "    print(\"B\")\n",
        "elif 79>=mark>=70:\n",
        "    print(\"C\")\n",
        "elif 69>=mark>=60:\n",
        "    print(\"D\")\n",
        "elif 59>=mark>=50:\n",
        "    print(\"E\")\n",
        "else:\n",
        "    print(\"F\")"
      ]
    },
    {
      "cell_type": "code",
      "execution_count": null,
      "metadata": {
        "colab": {
          "base_uri": "https://localhost:8080/"
        },
        "id": "cWjiH4-cWly6",
        "outputId": "fc881ba8-7caa-444d-c3f0-79908bf8d2cb"
      },
      "outputs": [
        {
          "name": "stdout",
          "output_type": "stream",
          "text": [
            "160000\n",
            "7200\n",
            "80.0 km/h\n",
            "Velocity is okay. The car is ready!\n"
          ]
        }
      ],
      "source": [
        "distance = int(input())/1000\n",
        "time = int(input())/3600\n",
        "velocity = distance/time\n",
        "if velocity>0:\n",
        "    if velocity<60:\n",
        "        print(f\"{velocity} km/h\\nToo slow. Needs more changes.\")\n",
        "    elif 90>=velocity>=60:\n",
        "        print(f\"{velocity} km/h\\nVelocity is okay. The car is ready!\")\n",
        "    else:\n",
        "        print(f\"{velocity} km/h\\nToo fast. Only a few changes should suffice.\")"
      ]
    },
    {
      "cell_type": "code",
      "execution_count": null,
      "metadata": {
        "colab": {
          "base_uri": "https://localhost:8080/"
        },
        "id": "0QlR8_mdthoJ",
        "outputId": "5102ae24-4028-40fc-f05d-b6c56c7cafac"
      },
      "outputs": [
        {
          "name": "stdout",
          "output_type": "stream",
          "text": [
            "4.00\n",
            "30\n",
            "The student is eligible for a waiver of 100 percent.\n"
          ]
        }
      ],
      "source": [
        "cgpa = float(input())\n",
        "credits = int(input())\n",
        "if cgpa<3.8 or credits<30:\n",
        "    print(\"The student is not eligible for a waiver\")\n",
        "elif 3.89>=cgpa>=3.80:\n",
        "    print(\"The student is eligible for a waiver of 25 percent.\")\n",
        "elif 3.94>=cgpa>=3.90:\n",
        "    print(\"The student is eligible for a waiver of 50 percent.\")\n",
        "elif 3.99>=cgpa>=3.95:\n",
        "    print(\"The student is eligible for a waiver of 75 percent.\")\n",
        "elif cgpa == 4.00:\n",
        "    print(\"The student is eligible for a waiver of 100 percent.\")"
      ]
    },
    {
      "cell_type": "markdown",
      "metadata": {
        "id": "6TnfVg2qwpme"
      },
      "source": [
        "#LAB3"
      ]
    },
    {
      "cell_type": "code",
      "execution_count": null,
      "metadata": {
        "colab": {
          "base_uri": "https://localhost:8080/"
        },
        "id": "AE2m8t23wrIz",
        "outputId": "02de933c-bf3c-4ef9-d57c-23f630ed16b2"
      },
      "outputs": [
        {
          "name": "stdout",
          "output_type": "stream",
          "text": [
            "24, 18, 12, 6, 0, -6\n"
          ]
        }
      ],
      "source": [
        "for num in range (24,-7,-6):\n",
        "    if num != -6:\n",
        "        print(num, end=\", \")\n",
        "    else:\n",
        "        print(num)"
      ]
    },
    {
      "cell_type": "code",
      "execution_count": 1,
      "metadata": {
        "id": "0stU6grRxFOl"
      },
      "outputs": [
        {
          "name": "stdout",
          "output_type": "stream",
          "text": [
            "Toyota\n",
            "Toyota\n",
            "Toyota\n",
            "Toyota\n",
            "Toyota\n"
          ]
        }
      ],
      "source": [
        "name = input()\n",
        "num = int(input())\n",
        "for i in range(num):\n",
        "    print(name)"
      ]
    },
    {
      "cell_type": "code",
      "execution_count": 1,
      "metadata": {},
      "outputs": [
        {
          "name": "stdout",
          "output_type": "stream",
          "text": [
            "2835\n"
          ]
        }
      ],
      "source": [
        "sum = 0\n",
        "for num in range (601):\n",
        "    if num%7 == 0 and num%9 == 0:\n",
        "        sum+=num\n",
        "print(sum)"
      ]
    },
    {
      "cell_type": "code",
      "execution_count": 4,
      "metadata": {},
      "outputs": [
        {
          "name": "stdout",
          "output_type": "stream",
          "text": [
            "39814\n"
          ]
        }
      ],
      "source": [
        "sum = 0\n",
        "for num in range(601):\n",
        "    if num%7 == 0 or num%9 == 0:\n",
        "        if not(num%7 == 0 and num%9 == 0):\n",
        "            sum+=num\n",
        "print(sum)"
      ]
    },
    {
      "cell_type": "code",
      "execution_count": 3,
      "metadata": {},
      "outputs": [
        {
          "name": "stdout",
          "output_type": "stream",
          "text": [
            "11 13 15 17 19 21 23 25 27 29 31 33 35 37 39 41 43 45 47 49 "
          ]
        }
      ],
      "source": [
        "for num in range(10,51):\n",
        "    if num%2 != 0:\n",
        "        print(num, end=\" \")"
      ]
    },
    {
      "cell_type": "code",
      "execution_count": 8,
      "metadata": {},
      "outputs": [
        {
          "name": "stdout",
          "output_type": "stream",
          "text": [
            "-210\n"
          ]
        }
      ],
      "source": [
        "sum = 0\n",
        "for num in range(int(input())+1):\n",
        "    if num%2 == 0:\n",
        "        sum-=num**2\n",
        "    else:\n",
        "        sum+=num**2\n",
        "print(sum)"
      ]
    },
    {
      "cell_type": "code",
      "execution_count": 10,
      "metadata": {},
      "outputs": [
        {
          "name": "stdout",
          "output_type": "stream",
          "text": [
            "The total of the odd numbers is 90 and their average is 22.5\n"
          ]
        }
      ],
      "source": [
        "total = 0\n",
        "count = 0\n",
        "for inp in range(10):\n",
        "    num = int(input())\n",
        "    if num%2 != 0:\n",
        "        total+=num\n",
        "        count+=1\n",
        "print(f\"The total of the odd numbers is {total} and their average is {total/count}\")"
      ]
    },
    {
      "cell_type": "code",
      "execution_count": 13,
      "metadata": {},
      "outputs": [
        {
          "name": "stdout",
          "output_type": "stream",
          "text": [
            "196\n"
          ]
        }
      ],
      "source": [
        "sum = 0\n",
        "for num in range(int(input())+1):\n",
        "    if num%7 == 0:\n",
        "        sum+=num\n",
        "print(sum)"
      ]
    },
    {
      "cell_type": "code",
      "execution_count": 15,
      "metadata": {},
      "outputs": [
        {
          "name": "stdout",
          "output_type": "stream",
          "text": [
            "11\n",
            "-18\n",
            "-21\n",
            "26\n",
            "76\n"
          ]
        }
      ],
      "source": [
        "sum = 0\n",
        "for num in range(5):\n",
        "    inp = int(input())\n",
        "    sum+=inp\n",
        "    print(sum)"
      ]
    },
    {
      "cell_type": "code",
      "execution_count": 21,
      "metadata": {},
      "outputs": [
        {
          "name": "stdout",
          "output_type": "stream",
          "text": [
            "5, 4, 3, 9, 6, 4, 8\n"
          ]
        }
      ],
      "source": [
        "num = int(input())\n",
        "for i in range(len(str(num))):\n",
        "    if num > 10:\n",
        "        print(num%10, end= \", \")\n",
        "    else:\n",
        "        print(num)\n",
        "    num = num//10"
      ]
    },
    {
      "cell_type": "code",
      "execution_count": 25,
      "metadata": {},
      "outputs": [
        {
          "name": "stdout",
          "output_type": "stream",
          "text": [
            "10\n"
          ]
        }
      ],
      "source": [
        "count = 0\n",
        "num = int(input())\n",
        "while num>0:\n",
        "    count+=1\n",
        "    num = num//10\n",
        "print(count)"
      ]
    },
    {
      "cell_type": "code",
      "execution_count": 33,
      "metadata": {},
      "outputs": [
        {
          "name": "stdout",
          "output_type": "stream",
          "text": [
            "3, 2, 7, 6, 8\n"
          ]
        }
      ],
      "source": [
        "num = int(input())\n",
        "while num>0:\n",
        "    length = len(str(num))-1\n",
        "    if num>10:\n",
        "        print(num//10**length, end=\", \")\n",
        "    else:\n",
        "        print(num//10**length)\n",
        "    num = num%10**length"
      ]
    },
    {
      "cell_type": "code",
      "execution_count": 35,
      "metadata": {},
      "outputs": [
        {
          "name": "stdout",
          "output_type": "stream",
          "text": [
            "1\n",
            "11\n",
            "121\n",
            "Total 3 divisors.\n"
          ]
        }
      ],
      "source": [
        "num = int(input())\n",
        "count = 0\n",
        "for i in range(1,num+1):\n",
        "    if num%i == 0:\n",
        "        print(i)\n",
        "        count+=1\n",
        "print(f\"Total {count} divisors.\")"
      ]
    },
    {
      "cell_type": "code",
      "execution_count": 3,
      "metadata": {},
      "outputs": [
        {
          "name": "stdout",
          "output_type": "stream",
          "text": [
            "33 is not a perfect number.\n"
          ]
        }
      ],
      "source": [
        "num = int(input())\n",
        "count = 0\n",
        "for i in range(1,num):\n",
        "    if num%i == 0:\n",
        "        count+=i\n",
        "if count == num:\n",
        "    print(f\"{num} is a perfect number.\")\n",
        "else:\n",
        "    print(f\"{num} is not a perfect number.\")"
      ]
    },
    {
      "cell_type": "code",
      "execution_count": 1,
      "metadata": {},
      "outputs": [
        {
          "name": "stdout",
          "output_type": "stream",
          "text": [
            "6 is not a prime number\n"
          ]
        }
      ],
      "source": [
        "num = int(input())\n",
        "count = 0\n",
        "for i in range(1,num+1):\n",
        "    if num%i == 0:\n",
        "        count+=1\n",
        "if count == 2:\n",
        "    print(f\"{num} is a prime number\")\n",
        "else:\n",
        "    print(f\"{num} is not a prime number\")"
      ]
    },
    {
      "cell_type": "code",
      "execution_count": 3,
      "metadata": {},
      "outputs": [
        {
          "name": "stdout",
          "output_type": "stream",
          "text": [
            "Maximum 70\n",
            "Minimum -5\n",
            "Average is 28.8\n"
          ]
        }
      ],
      "source": [
        "count = 0\n",
        "sum = 0\n",
        "max = 0\n",
        "min = 0\n",
        "for i in range(int(input())):\n",
        "    num = int(input())\n",
        "    sum+=num\n",
        "    count+=1\n",
        "    if max<num:\n",
        "        max = num\n",
        "    elif min>num:\n",
        "        min = num\n",
        "print(f\"Maximum {max}\\nMinimum {min}\\nAverage is {sum/count}\")"
      ]
    },
    {
      "cell_type": "code",
      "execution_count": 4,
      "metadata": {},
      "outputs": [
        {
          "name": "stdout",
          "output_type": "stream",
          "text": [
            "+++++\n",
            "+++++\n",
            "+++++\n",
            "+++++\n",
            "+++++\n"
          ]
        }
      ],
      "source": [
        "num = int(input())\n",
        "for i in range(num):\n",
        "    print(\"+\"*num)"
      ]
    },
    {
      "cell_type": "code",
      "execution_count": 3,
      "metadata": {},
      "outputs": [
        {
          "name": "stdout",
          "output_type": "stream",
          "text": [
            "123456\n",
            "123456\n",
            "123456\n",
            "123456\n"
          ]
        }
      ],
      "source": [
        "m = int(input())\n",
        "n = int(input())\n",
        "for i in range(m):\n",
        "    for j in range(1, n+1):\n",
        "        print(j, end='')\n",
        "    print()"
      ]
    },
    {
      "cell_type": "code",
      "execution_count": 4,
      "metadata": {},
      "outputs": [
        {
          "name": "stdout",
          "output_type": "stream",
          "text": [
            "1\n",
            "12\n",
            "123\n",
            "1234\n"
          ]
        }
      ],
      "source": [
        "num = int(input())\n",
        "for i in range(1, num+1):\n",
        "    for j in range(1,i+1):\n",
        "        print(j, end='')\n",
        "    print()"
      ]
    },
    {
      "cell_type": "code",
      "execution_count": 16,
      "metadata": {},
      "outputs": [
        {
          "name": "stdout",
          "output_type": "stream",
          "text": [
            "0 1 1 2 3 5 8 "
          ]
        }
      ],
      "source": [
        "num = int(input())\n",
        "a = 0\n",
        "b = 1\n",
        "for i in range(num):\n",
        "    print(a, end= \" \")\n",
        "    c = a+b\n",
        "    a=b\n",
        "    b = c\n",
        "    if a >= num:\n",
        "        break\n",
        "     "
      ]
    },
    {
      "cell_type": "code",
      "execution_count": 24,
      "metadata": {},
      "outputs": [
        {
          "name": "stdout",
          "output_type": "stream",
          "text": [
            "1101\n"
          ]
        }
      ],
      "source": [
        "num = int(input())\n",
        "string = \"\"\n",
        "while num>0:\n",
        "    x = num%2\n",
        "    num = num//2\n",
        "    string+=str(x)\n",
        "print(int(string[::-1]))"
      ]
    },
    {
      "cell_type": "code",
      "execution_count": 3,
      "metadata": {},
      "outputs": [
        {
          "name": "stdout",
          "output_type": "stream",
          "text": [
            "29\n"
          ]
        }
      ],
      "source": [
        "num = input()\n",
        "length = len(num)-1\n",
        "decimal = 0\n",
        "for digit in num:\n",
        "    decimal+=(int(digit)*2**length)\n",
        "    length-=1\n",
        "print(decimal)"
      ]
    },
    {
      "cell_type": "code",
      "execution_count": 8,
      "metadata": {},
      "outputs": [
        {
          "name": "stdout",
          "output_type": "stream",
          "text": [
            "Between 1 and 100,\n",
            "Found 25 prime numbers\n",
            "Found 2 perfect number\n",
            "Prime number: 2, 3, 5, 7, 11, 13, 17, 19, 23, 29, 31, 37, 41, 43, 47, 53, 59, 61, 67, 71, 73, 79, 83, 89, 97\n",
            "Perfect number: 6, 28\n"
          ]
        }
      ],
      "source": [
        "start = int(input())\n",
        "end = int(input())\n",
        "sum = 0\n",
        "count = 0\n",
        "c_prime = 0\n",
        "c_perfect = 0\n",
        "prime = \"\"\n",
        "perfect = \"\"\n",
        "for num in range(start, end+1):\n",
        "    for i in range(1,num):\n",
        "        if num%i == 0:\n",
        "            count+=1\n",
        "            sum+=i\n",
        "    \n",
        "    if count == 1:\n",
        "        c_prime+=1\n",
        "        prime+=str(num)+\", \"\n",
        "        count = 0\n",
        "    else:\n",
        "        count = 0\n",
        "    if sum == num:\n",
        "        c_perfect+=1\n",
        "        perfect+=str(num)+\", \"\n",
        "        sum = 0\n",
        "    else:\n",
        "        sum = 0\n",
        "\n",
        "print(f\"Between {start} and {end},\\nFound {c_prime} prime numbers\\nFound {c_perfect} perfect number\")\n",
        "print(f\"Prime number: {prime[:-2]}\\nPerfect number: {perfect[:-2]}\")\n"
      ]
    },
    {
      "cell_type": "code",
      "execution_count": 10,
      "metadata": {},
      "outputs": [
        {
          "name": "stdout",
          "output_type": "stream",
          "text": [
            "45 90\n"
          ]
        }
      ],
      "source": [
        "start = int(input())\n",
        "end = int(input())\n",
        "extra = int(input())\n",
        "product = 1\n",
        "string = \"\"\n",
        "for num in range (start, end+1):\n",
        "    for digit in str(num):\n",
        "        product*=int(digit)\n",
        "    if product%extra == 0:\n",
        "        string+=str(product)+\" \"\n",
        "        product = 1\n",
        "    else:\n",
        "        product = 1\n",
        "print(string[:-1])"
      ]
    },
    {
      "cell_type": "markdown",
      "metadata": {},
      "source": [
        "#LAB4"
      ]
    },
    {
      "cell_type": "code",
      "execution_count": 12,
      "metadata": {},
      "outputs": [
        {
          "name": "stdout",
          "output_type": "stream",
          "text": [
            "nohtyP\n"
          ]
        }
      ],
      "source": [
        "print(input()[::-1])"
      ]
    },
    {
      "cell_type": "code",
      "execution_count": 4,
      "metadata": {},
      "outputs": [
        {
          "name": "stdout",
          "output_type": "stream",
          "text": [
            "21dcBa34defg\n"
          ]
        }
      ],
      "source": [
        "num = input()\n",
        "index = int(input())\n",
        "print(num[index::-1]+num[index+1:])"
      ]
    },
    {
      "cell_type": "code",
      "execution_count": 8,
      "metadata": {},
      "outputs": [
        {
          "name": "stdout",
          "output_type": "stream",
          "text": [
            "Not a Binary Number\n"
          ]
        }
      ],
      "source": [
        "string = input()\n",
        "binary = \"\"\n",
        "for digit in string:\n",
        "    if digit == \"0\" or digit == \"1\":\n",
        "        binary+=digit\n",
        "    else:\n",
        "        pass\n",
        "if binary == string:\n",
        "    print(\"Binary Number\")\n",
        "else:\n",
        "    print(\"Not a Binary Number\")    "
      ]
    },
    {
      "cell_type": "code",
      "execution_count": 15,
      "metadata": {},
      "outputs": [
        {
          "name": "stdout",
          "output_type": "stream",
          "text": [
            "best\n"
          ]
        }
      ],
      "source": [
        "string = input()\n",
        "length = len(string)\n",
        "if string[length-2:] == \"er\":\n",
        "    print(string[:length-2:]+\"est\")\n",
        "elif length<4:\n",
        "    print(string)\n",
        "elif length>3 and string[length-3] == \"est\":\n",
        "    print(string)\n",
        "else:\n",
        "    print(string + \"er\")"
      ]
    },
    {
      "cell_type": "code",
      "execution_count": 16,
      "metadata": {},
      "outputs": [
        {
          "name": "stdout",
          "output_type": "stream",
          "text": [
            "B\n",
            "BA\n",
            "BAN\n",
            "BANG\n",
            "BANGL\n",
            "BANGLA\n"
          ]
        }
      ],
      "source": [
        "string = input()\n",
        "length = len(string)\n",
        "for num in range(length):\n",
        "    print(string[:num+1])"
      ]
    },
    {
      "cell_type": "code",
      "execution_count": 18,
      "metadata": {},
      "outputs": [
        {
          "name": "stdout",
          "output_type": "stream",
          "text": [
            "P: 80\n",
            "r: 114\n",
            "o: 111\n",
            "g: 103\n",
            "r: 114\n",
            "a: 97\n",
            "m: 109\n",
            "m: 109\n",
            "i: 105\n",
            "n: 110\n",
            "g: 103\n"
          ]
        }
      ],
      "source": [
        "for i in input():\n",
        "    print(f\"{i}: {ord(i)}\")"
      ]
    },
    {
      "cell_type": "code",
      "execution_count": 21,
      "metadata": {},
      "outputs": [
        {
          "name": "stdout",
          "output_type": "stream",
          "text": [
            "yzabcd"
          ]
        }
      ],
      "source": [
        "for i in input():\n",
        "    if i != \"z\":\n",
        "        print(chr(ord(i)+1), end=\"\")\n",
        "    else:\n",
        "        print(\"a\", end=\"\")"
      ]
    },
    {
      "cell_type": "code",
      "execution_count": 25,
      "metadata": {},
      "outputs": [
        {
          "name": "stdout",
          "output_type": "stream",
          "text": [
            "TIG"
          ]
        }
      ],
      "source": [
        "string = input()\n",
        "for i in string[1::2]:\n",
        "    if 122>=ord(i)>=97:\n",
        "        print(chr(ord(i)-32), end=\"\")\n",
        "    else:\n",
        "        print(i,end=\"\")"
      ]
    },
    {
      "cell_type": "code",
      "execution_count": 27,
      "metadata": {},
      "outputs": [
        {
          "name": "stdout",
          "output_type": "stream",
          "text": [
            "Jupyter Notebok is beter. Case sensitivity check AaAaAa."
          ]
        }
      ],
      "source": [
        "string = input()\n",
        "for i in range(len(string)):\n",
        "    if i == 0:\n",
        "        print(string[i], end=\"\")\n",
        "    else:\n",
        "        if string[i] != string[i-1]:\n",
        "            print(string[i], end=\"\")\n",
        "        else:\n",
        "            pass"
      ]
    },
    {
      "cell_type": "code",
      "execution_count": 38,
      "metadata": {},
      "outputs": [
        {
          "name": "stdout",
          "output_type": "stream",
          "text": [
            "iAjBkClDENDFGH\n"
          ]
        }
      ],
      "source": [
        "string = input()\n",
        "str1=\"\"\n",
        "for i in range(len(string)):\n",
        "    if string[i]+string[i+1] == \", \":\n",
        "        str2 = string[i+2:]\n",
        "        break\n",
        "    else:\n",
        "        str1+=string[i]\n",
        "if len(str1)>len(str2):\n",
        "    for j in range(len(str2)):\n",
        "        print(str1[j]+str2[j], end=\"\")\n",
        "    print(str1[len(str2):])\n",
        "elif len(str1)<len(str2):\n",
        "    for j in range(len(str1)):\n",
        "        print(str1[j]+str2[j], end=\"\")\n",
        "    print(str2[len(str1):])\n",
        "else:\n",
        "    for j in range(len(str1)):\n",
        "        print(str1[j]+str2[j], end=\"\")"
      ]
    },
    {
      "cell_type": "code",
      "execution_count": 4,
      "metadata": {},
      "outputs": [
        {
          "name": "stdout",
          "output_type": "stream",
          "text": [
            "hi\n"
          ]
        }
      ],
      "source": [
        "string = input()\n",
        "letter = input()\n",
        "if letter not in string:\n",
        "    if len(string)>3:\n",
        "        print(string[1:-1:])\n",
        "    else:\n",
        "        print(string)\n",
        "else:\n",
        "    for i in string:\n",
        "        if i == letter:\n",
        "            pass\n",
        "        else:\n",
        "            print(i,end='')"
      ]
    },
    {
      "cell_type": "code",
      "execution_count": 7,
      "metadata": {},
      "outputs": [
        {
          "name": "stdout",
          "output_type": "stream",
          "text": [
            "tom@gmail\n",
            "harry@yahoo\n",
            "bob@gmail\n",
            "mary@gmail\n"
          ]
        }
      ],
      "source": [
        "string = input()\n",
        "char = input()\n",
        "split_string = \"\"\n",
        "for i in string:\n",
        "    if i != char:\n",
        "        split_string+=i\n",
        "    else:\n",
        "        print(split_string)\n",
        "        split_string=\"\"\n",
        "print(split_string)"
      ]
    },
    {
      "cell_type": "code",
      "execution_count": 10,
      "metadata": {},
      "outputs": [
        {
          "name": "stdout",
          "output_type": "stream",
          "text": [
            "CSE110CSE110CSE110CSE110CSE110CSE110CSE110CSE110CSE110\n"
          ]
        }
      ],
      "source": [
        "string = input()\n",
        "num = int(input())\n",
        "if num%2 == 0:\n",
        "    print(string*(num*2))\n",
        "else:\n",
        "    print(string*(num*3))"
      ]
    },
    {
      "cell_type": "code",
      "execution_count": 18,
      "metadata": {},
      "outputs": [
        {
          "name": "stdout",
          "output_type": "stream",
          "text": [
            "I       lOvE         pYtHoN         pRoGrAmMiNg"
          ]
        }
      ],
      "source": [
        "string = input()\n",
        "if 90 >= ord(string[0]) >= 65:\n",
        "    empty = string[0]\n",
        "else:\n",
        "    empty = chr(ord(string[0]) - 32)\n",
        "print(empty, end=\"\")\n",
        "for i in string[1:]:\n",
        "    if 90 >= ord(i) >= 65 or 122 >= ord(i) >= 97:\n",
        "        if 90 >= ord(i) >= 65 and 90 >= ord(empty) >= 65:\n",
        "            i = chr(ord(i) + 32)\n",
        "        elif 122 >= ord(i) >= 97 and 122 >= ord(empty) >= 97:\n",
        "            i = chr(ord(i) - 32)\n",
        "        else:\n",
        "            i=i   \n",
        "        print(i, end=\"\")\n",
        "        empty = i\n",
        "    else:\n",
        "        print(i, end=\"\")"
      ]
    },
    {
      "cell_type": "markdown",
      "metadata": {},
      "source": [
        "#LAB5"
      ]
    },
    {
      "cell_type": "code",
      "execution_count": 20,
      "metadata": {},
      "outputs": [
        {
          "name": "stdout",
          "output_type": "stream",
          "text": [
            "Numbers in the list: [3]\n",
            "Numbers in the list: [3, 5]\n",
            "Numbers in the list: [3, 5, 34]\n",
            "Numbers in the list: [3, 5, 34, -11]\n",
            "Numbers in the list: [3, 5, 34, -11, 0]\n"
          ]
        }
      ],
      "source": [
        "empty_list = []\n",
        "for num in range(5):\n",
        "    num = int(input())\n",
        "    empty_list.append(num)\n",
        "    print(f'Numbers in the list: {empty_list}')"
      ]
    },
    {
      "cell_type": "code",
      "execution_count": 25,
      "metadata": {},
      "outputs": [
        {
          "name": "stdout",
          "output_type": "stream",
          "text": [
            "Not possible\n"
          ]
        }
      ],
      "source": [
        "inp_list = [int(x) for x in input().split(\", \")]\n",
        "#the input is a single string so to sperate it I use \".split\"\n",
        "#and to convert the number form string to int I use int(x) \n",
        "new_list = []\n",
        "if len(inp_list)>=4:\n",
        "    print(inp_list[2:-2])\n",
        "else:\n",
        "    print(\"Not possible\")"
      ]
    },
    {
      "cell_type": "code",
      "execution_count": 29,
      "metadata": {},
      "outputs": [
        {
          "name": "stdout",
          "output_type": "stream",
          "text": [
            "0\n",
            "1\n",
            "100\n",
            "-5\n",
            "5\n"
          ]
        }
      ],
      "source": [
        "inp_list = []\n",
        "for num in range(5):\n",
        "    inp = int(input())\n",
        "    inp_list.append(inp)\n",
        "for x in inp_list[::-1]:\n",
        "    print(x)"
      ]
    },
    {
      "cell_type": "code",
      "execution_count": 30,
      "metadata": {},
      "outputs": [
        {
          "name": "stdout",
          "output_type": "stream",
          "text": [
            "[1, 4, 9, 16, 25, 36, 49]\n"
          ]
        }
      ],
      "source": [
        "given_list = [1, 2, 3, 4, 5, 6, 7]\n",
        "new_list = [(x**2) for x in given_list]\n",
        "print(new_list)"
      ]
    },
    {
      "cell_type": "code",
      "execution_count": 34,
      "metadata": {},
      "outputs": [
        {
          "name": "stdout",
          "output_type": "stream",
          "text": [
            "['hey', 'there', \"what's\", 'up', '?']\n"
          ]
        }
      ],
      "source": [
        "given_list = [\"hey\", \"there\", \"\", \"what's\", \"\", \"up\", \"\", \"?\"]\n",
        "new_list = [x for x in given_list if x != \"\"]\n",
        "# if & for in one line\n",
        "print(new_list)"
      ]
    },
    {
      "cell_type": "code",
      "execution_count": 41,
      "metadata": {},
      "outputs": [
        {
          "name": "stdout",
          "output_type": "stream",
          "text": [
            "My list: [7, 34, 4, 5, 67, 8, 96, 78]\n",
            "Largest number in the list is 96 which was found at index 6.\n"
          ]
        }
      ],
      "source": [
        "string = input().split(\",\")\n",
        "inp_list = [int(x) for x in string]\n",
        "max_index = 0\n",
        "max_num = inp_list[0]\n",
        "for num in range(len(inp_list)):\n",
        "    if max_num<inp_list[num]:\n",
        "        max_num = inp_list[num]\n",
        "        max_index = num\n",
        "    else:\n",
        "        pass\n",
        "print(f\"My list: {inp_list}\\nLargest number in the list is {max_num} which was found at index {max_index}.\")"
      ]
    },
    {
      "cell_type": "code",
      "execution_count": 1,
      "metadata": {},
      "outputs": [
        {
          "name": "stdout",
          "output_type": "stream",
          "text": [
            "[1, 4, 7, 6, 1, 3, 9]\n"
          ]
        }
      ],
      "source": [
        "list1 =  [1, 4, 7, 5]\n",
        "list2 = [6, 1, 3, 9]\n",
        "print(list1[:-1]+list2)"
      ]
    },
    {
      "cell_type": "code",
      "execution_count": 2,
      "metadata": {},
      "outputs": [
        {
          "name": "stdout",
          "output_type": "stream",
          "text": [
            "[2, 4, 6, 8, 10, 12, -14, -16]\n"
          ]
        }
      ],
      "source": [
        "list1 = [1, 2, 3, 4, 5, 6, 7, 8, 9]\n",
        "list2 = [10, 11, 12, -13, -14, -15, -16]\n",
        "modified_list = [x for x in list1 if x%2 == 0]\n",
        "modified_list += [x for x in list2 if x%2 == 0]\n",
        "print(modified_list)"
      ]
    },
    {
      "cell_type": "code",
      "execution_count": 4,
      "metadata": {},
      "outputs": [
        {
          "name": "stdout",
          "output_type": "stream",
          "text": [
            "Original list: [7, 12, 4, 55, 96, 2, 11, 61, 33, 42]\n",
            "Modified list: [7, 55, 11, 61, 33]\n"
          ]
        }
      ],
      "source": [
        "string = input()+\" \"\n",
        "olist = []\n",
        "st = \"\"\n",
        "for x in string:\n",
        "    if x != ' ':\n",
        "        st+=x\n",
        "    else:\n",
        "        olist.append(int(st))\n",
        "        st = \"\"\n",
        "print(f\"Original list: {olist}\")\n",
        "print(f\"Modified list: {[x for x in olist if x%2 != 0]}\")"
      ]
    },
    {
      "cell_type": "code",
      "execution_count": 11,
      "metadata": {},
      "outputs": [
        {
          "name": "stdout",
          "output_type": "stream",
          "text": [
            "Input list: [0, 0, 1, 2, 3, 4, 4, 5, 6, 6, 6, 7, 8, 9, 4, 4]\n",
            "Modified list: [0, 1, 2, 3, 4, 5, 6, 7, 8, 9]\n"
          ]
        }
      ],
      "source": [
        "string = input().split(\", \")\n",
        "inp_list = [int(x) for x in string]\n",
        "print(f\"Input list: {inp_list}\")\n",
        "modified_list = [ ]\n",
        "for x in inp_list:\n",
        "    if x not in modified_list:\n",
        "        modified_list.append(x)\n",
        "print(f\"Modified list: {modified_list}\")"
      ]
    },
    {
      "cell_type": "code",
      "execution_count": 17,
      "metadata": {},
      "outputs": [
        {
          "name": "stdout",
          "output_type": "stream",
          "text": [
            "True\n"
          ]
        }
      ],
      "source": [
        "list1 = [1, 4, 3, 2, 6,10]\n",
        "list2 = [5, 6, 9, 8, 7]\n",
        "flag = False\n",
        "for x in list1:\n",
        "    if x in list2:\n",
        "        flag = True\n",
        "        break\n",
        "    else:\n",
        "        flag = False\n",
        "print(flag)"
      ]
    },
    {
      "cell_type": "code",
      "execution_count": 23,
      "metadata": {},
      "outputs": [
        {
          "name": "stdout",
          "output_type": "stream",
          "text": [
            "My list: [7, 13, 2, 10, 6, -11, 0]\n",
            "Second largest number in the list is 10 which was found at index 3\n"
          ]
        }
      ],
      "source": [
        "string = input().split(\", \")\n",
        "inp_list = [int(x) for x in string]\n",
        "print(f\"My list: {inp_list}\")\n",
        "max1 = inp_list[0]\n",
        "max2 = 0\n",
        "for x in inp_list:\n",
        "    if x > max1:\n",
        "        max2 = max1\n",
        "        max1 = x\n",
        "    elif x>max2<max1:\n",
        "        max2 = x\n",
        "print(f\"Second largest number in the list is {max2} which was found at index {inp_list.index(max2)}\")\n"
      ]
    },
    {
      "cell_type": "code",
      "execution_count": 25,
      "metadata": {},
      "outputs": [
        {
          "name": "stdout",
          "output_type": "stream",
          "text": [
            "My list: [7, 13, 2, 10, 6, -11, 0]\n",
            "Smallest number in the list is -11 which was found at index 5\n",
            "Largest number in the list is 13 which was found at index 1\n"
          ]
        }
      ],
      "source": [
        "string = input().split(\", \")\n",
        "inp_list = [int(x) for x in string]\n",
        "print(f\"My list: {inp_list}\")\n",
        "max1 = inp_list[0]\n",
        "min1 = inp_list[0]\n",
        "for x in inp_list:\n",
        "    if x > max1:\n",
        "        max1 = x\n",
        "    elif x < min1:\n",
        "        min1 = x\n",
        "print(f\"Smallest number in the list is {min1} which was found at index {inp_list.index(min1)}\")\n",
        "print(f\"Largest number in the list is {max1} which was found at index {inp_list.index(max1)}\")"
      ]
    },
    {
      "cell_type": "code",
      "execution_count": 31,
      "metadata": {},
      "outputs": [
        {
          "name": "stdout",
          "output_type": "stream",
          "text": [
            "['A', '1', 'P']\n"
          ]
        }
      ],
      "source": [
        "inp_list1 = input().split(\", \")\n",
        "inp_list2 = input().split(\", \")\n",
        "print([x for x in inp_list2 if x in inp_list1])"
      ]
    },
    {
      "cell_type": "code",
      "execution_count": 34,
      "metadata": {},
      "outputs": [
        {
          "name": "stdout",
          "output_type": "stream",
          "text": [
            "[1, 2, 4, 5, 7, 99, 200, 303, 70, 3, 500, -5]\n"
          ]
        }
      ],
      "source": [
        "list_one = [1, 2, 2, 4, 5, 5, 7, 99, 200, 303, 70]\n",
        "list_two = [1, 1, 2, 3, 3, 3, 4, 5, 200, 500, -5]\n",
        "list_three = []\n",
        "for x in list_one+list_two:\n",
        "    if x not in list_three:\n",
        "        list_three.append(x)\n",
        "print(list_three)"
      ]
    },
    {
      "cell_type": "code",
      "execution_count": 44,
      "metadata": {},
      "outputs": [
        {
          "name": "stdout",
          "output_type": "stream",
          "text": [
            "Original data:       [1,   2   ,         3,   50,   4]         \n",
            "After removing square brackets: 1,   2   ,         3,   50,   4\n",
            "Numbers in string format with extra white spaces: ['1', '\\xa0 \\xa02\\xa0 \\xa0', '\\xa0 \\xa0\\xa0 \\xa0\\xa0 \\xa03', '\\xa0 \\xa050', '\\xa0 \\xa04']\n",
            "Final data (numbers in list format: [1, 2, 3, 50, 4])\n"
          ]
        }
      ],
      "source": [
        "inp_list = input()\n",
        "print(f\"Original data: {inp_list}\")\n",
        "inp_list = inp_list.strip()[1:-1]\n",
        "print(f\"After removing square brackets: {inp_list}\")\n",
        "inp_list = inp_list.split(\",\")\n",
        "print(f\"Numbers in string format with extra white spaces: {inp_list}\")\n",
        "# \\xa0 represents white spaces\n",
        "print(f\"Final data (numbers in list format: {[int(x.strip()) for x in inp_list]})\")"
      ]
    },
    {
      "cell_type": "code",
      "execution_count": 46,
      "metadata": {},
      "outputs": [
        {
          "name": "stdout",
          "output_type": "stream",
          "text": [
            "Given number in list: [0, 0, 1, 2, 3, 4, 4, 5, 6, 6, 6, 7, 8, 9, 4, 4]\n",
            "List without any duplicate values: [0, 1, 2, 3, 4, 5, 6, 7, 8, 9]\n"
          ]
        }
      ],
      "source": [
        "string = input().split(\",\")\n",
        "inp_list = [int(x.strip()) for x in string]\n",
        "print(f\"Given number in list: {inp_list}\")\n",
        "new_list = []\n",
        "for x in inp_list:\n",
        "    if x not in new_list:\n",
        "        new_list.append(x)\n",
        "print(f\"List without any duplicate values: {new_list}\")"
      ]
    },
    {
      "cell_type": "markdown",
      "metadata": {},
      "source": [
        "#LAB6"
      ]
    },
    {
      "cell_type": "code",
      "execution_count": 9,
      "metadata": {},
      "outputs": [
        {
          "name": "stdout",
          "output_type": "stream",
          "text": [
            "400\n"
          ]
        }
      ],
      "source": [
        "a_tuple = (\"The Institute\", (\"Best Mystery & Thriller\", \"The Silent Patient\", 68821), 75717,\n",
        "[1, 2, 3, 400, 5, 6, 7], (\"Best Fiction\", \"The Testaments\", 98291))\n",
        "print(a_tuple[3][3])"
      ]
    },
    {
      "cell_type": "code",
      "execution_count": 5,
      "metadata": {},
      "outputs": [
        {
          "name": "stdout",
          "output_type": "stream",
          "text": [
            "(24, 25, 26)\n"
          ]
        }
      ],
      "source": [
        "tup = (10, 20, 24, 25, 26, 35, 70)\n",
        "print(tuple([x for x in tup[2:-2]]))"
      ]
    },
    {
      "cell_type": "code",
      "execution_count": 8,
      "metadata": {},
      "outputs": [
        {
          "name": "stdout",
          "output_type": "stream",
          "text": [
            "Size of the tuple is: 4\n",
            "('Best Mystery & Thriller', 'The Silent Patient', 68, 821)\n",
            "('Best Horror', 'The Institute', 75, 717)\n",
            "('Best History & Biography', 'The five', 31, 783)\n",
            "('Best Fiction', 'The Testaments', 98, 291)\n"
          ]
        }
      ],
      "source": [
        "book_info = (\n",
        "(\"Best Mystery & Thriller\",\"The Silent Patient\",68,821),\n",
        "(\"Best Horror\",\"The Institute\",75,717),\n",
        "(\"Best History & Biography\",\"The five\",31,783 ),\n",
        "(\"Best Fiction\",\"The Testaments\",98,291)\n",
        ")\n",
        "\n",
        "print(f\"Size of the tuple is: {len(book_info)}\")\n",
        "for x in book_info:\n",
        "    print(x)"
      ]
    },
    {
      "cell_type": "code",
      "execution_count": 10,
      "metadata": {},
      "outputs": [
        {
          "name": "stdout",
          "output_type": "stream",
          "text": [
            "The Silent Patient won the 'Best Mystery & Thriller' category with 68821 votes\n",
            "The Institute won the 'Best Horror' category with 75717 votes\n",
            "The five won the 'Best History & Biography' category with 31783 votes\n",
            "The Testaments won the 'Best Fiction' category with 98291 votes\n"
          ]
        }
      ],
      "source": [
        "book_info = (\n",
        "(\"Best Mystery & Thriller\",\"The Silent Patient\",68821),\n",
        "(\"Best Horror\",\"The Institute\",75717),\n",
        "(\"Best History & Biography\",\"The five\",31783 ),\n",
        "(\"Best Fiction\",\"The Testaments\",98291)\n",
        ")\n",
        "\n",
        "for x in book_info:\n",
        "    print(f\"{x[1]} won the '{x[0]}' category with {x[2]} votes\")"
      ]
    },
    {
      "cell_type": "code",
      "execution_count": 14,
      "metadata": {},
      "outputs": [
        {
          "name": "stdout",
          "output_type": "stream",
          "text": [
            "1 appears 0 times in the tuple\n"
          ]
        }
      ],
      "source": [
        "tup =  (10, 8, 5, 2, 10, 15, 10, 8, 5, 8, 8, 2)\n",
        "num = int(input())\n",
        "count = 0\n",
        "for x in tup:\n",
        "    if num == x:\n",
        "        count+=1\n",
        "print(f\"{num} appears {count} times in the tuple\")"
      ]
    },
    {
      "cell_type": "code",
      "execution_count": 15,
      "metadata": {},
      "outputs": [
        {
          "name": "stdout",
          "output_type": "stream",
          "text": [
            "('h', 'g', 'f', 'e', 'd', 'c', 'b', 'a')\n"
          ]
        }
      ],
      "source": [
        "tup = ('a', 'b', 'c', 'd', 'e', 'f', 'g', 'h')\n",
        "print(tuple(list(tup)[::-1]))"
      ]
    },
    {
      "cell_type": "code",
      "execution_count": 20,
      "metadata": {},
      "outputs": [
        {
          "name": "stdout",
          "output_type": "stream",
          "text": [
            "{'Harry': 15, 'Draco': 8, 'Nevil': 19, 'Ginie': 18, 'Luna': 14}\n"
          ]
        }
      ],
      "source": [
        "dict1 = {'Harry':15, 'Draco':8, 'Nevil':19}\n",
        "dict2 = {'Ginie':18, 'Luna': 14}\n",
        "dic = {key: value for d in [dict1, dict2] for key, value in d.items()}\n",
        "#first I add the two dictionary in a list. Then I use 2 for loops and merge the two dictionary\n",
        "print(dic)"
      ]
    },
    {
      "cell_type": "code",
      "execution_count": 24,
      "metadata": {},
      "outputs": [
        {
          "name": "stdout",
          "output_type": "stream",
          "text": [
            "Average is 110\n"
          ]
        }
      ],
      "source": [
        "inp = input().split(\", \")\n",
        "sum = 0\n",
        "count = 0\n",
        "for x in inp:\n",
        "    x = x.split(\":\")\n",
        "    sum+=int(x[1])\n",
        "    count+=1\n",
        "print(f\"Average is {int(sum/count)}\")"
      ]
    },
    {
      "cell_type": "code",
      "execution_count": 25,
      "metadata": {},
      "outputs": [
        {
          "name": "stdout",
          "output_type": "stream",
          "text": [
            "{'Cierra Vega': 175, 'Alden Cantrell': 200, 'Pierre Cox': 190}\n"
          ]
        }
      ],
      "source": [
        "exam_marks = {'Cierra Vega': 175, 'Alden Cantrell': 200, 'Kierra Gentry': 165, 'Pierre Cox': 190}\n",
        "inp = int(input())\n",
        "dic = {}\n",
        "for name,marks in exam_marks.items():\n",
        "    if marks>inp:\n",
        "        dic[name] = marks\n",
        "print(dic)"
      ]
    },
    {
      "cell_type": "code",
      "execution_count": 27,
      "metadata": {},
      "outputs": [
        {
          "name": "stdout",
          "output_type": "stream",
          "text": [
            "The highest selling book genre is 'mystery and the number of books sold are 15'\n"
          ]
        }
      ],
      "source": [
        "given_dic = {'sci fi': 12, 'mystery': 15, 'horror': 8, 'mythology': 10, 'young_adult': 4, 'adventure':14}\n",
        "max = 0\n",
        "for name, sell in given_dic.items():\n",
        "    if max<sell:\n",
        "        max = sell\n",
        "        book_name = name\n",
        "print(f\"The highest selling book genre is '{book_name} and the number of books sold are {max}'\")"
      ]
    },
    {
      "cell_type": "code",
      "execution_count": 34,
      "metadata": {},
      "outputs": [
        {
          "name": "stdout",
          "output_type": "stream",
          "text": [
            "{'p': 2, 'y': 1, 't': 1, 'h': 1, 'o': 2, 'n': 3, 'r': 2, 'g': 2, 'a': 1, 'm': 2, 'i': 2, 's': 1, 'f': 1, 'u': 1}\n"
          ]
        }
      ],
      "source": [
        "string = input()\n",
        "dic = {}\n",
        "for i in string:\n",
        "    i = i.lower()\n",
        "    if i.isalpha():\n",
        "        #.isalpha means the value of i has to be alphabetic\n",
        "        if i not in dic.keys():\n",
        "            dic[i] = 1\n",
        "        else:\n",
        "            dic[i]+=1\n",
        "print(dic)"
      ]
    },
    {
      "cell_type": "code",
      "execution_count": 35,
      "metadata": {},
      "outputs": [
        {
          "name": "stdout",
          "output_type": "stream",
          "text": [
            "9\n"
          ]
        }
      ],
      "source": [
        "dict_1 = {'A': [1, 2, 3], 'b': ['1', '2'], \"c\": [4, 5, 6, 7]}\n",
        "count = 0\n",
        "for value in dict_1.values():\n",
        "    for x in value:\n",
        "        count+=1\n",
        "print(count)"
      ]
    },
    {
      "cell_type": "code",
      "execution_count": 36,
      "metadata": {},
      "outputs": [
        {
          "name": "stdout",
          "output_type": "stream",
          "text": [
            "{'a': [1, 3, 2], 'b': [2, 1], 'c': [1]}\n"
          ]
        }
      ],
      "source": [
        "list_1 = [(\"a\", 1), (\"b\", 2), (\"a\", 3), (\"b\", 1), (\"a\", 2), (\"c\", 1)]\n",
        "dic = {}\n",
        "for x in list_1:\n",
        "    if x[0] not in dic:\n",
        "        dic[x[0]] = [x[1]]\n",
        "    else:\n",
        "        dic[x[0]] += [x[1]]\n",
        "print(dic)"
      ]
    },
    {
      "cell_type": "code",
      "execution_count": 37,
      "metadata": {},
      "outputs": [
        {
          "name": "stdout",
          "output_type": "stream",
          "text": [
            "[6, 20, 42, 16]\n"
          ]
        }
      ],
      "source": [
        "given = [(2, 3), (4, 5), (6, 7), (2, 8)]\n",
        "print([i[0]*i[1] for i in given])"
      ]
    },
    {
      "cell_type": "code",
      "execution_count": 43,
      "metadata": {},
      "outputs": [
        {
          "name": "stdout",
          "output_type": "stream",
          "text": [
            "([1, 2, 'abc'], [4, 5, 'abc'], [7, 8, 'abc'], [10, 11, 'abc'])\n"
          ]
        }
      ],
      "source": [
        "a_tuple = ( [1, 2, 3], [4, 5, 6], [7, 8, 9], [10, 11, 12])\n",
        "inp = input()\n",
        "tup = []\n",
        "for i in a_tuple:\n",
        "    i[-1] = inp\n",
        "print(a_tuple)"
      ]
    },
    {
      "cell_type": "code",
      "execution_count": 45,
      "metadata": {},
      "outputs": [
        {
          "name": "stdout",
          "output_type": "stream",
          "text": [
            "{'c1': 'Red', 'c2': 'Green', 'd4': 'Blue'}\n"
          ]
        }
      ],
      "source": [
        "my_dictionary = {'c1':'Red', 'c2':'Green', 'c3':None, 'd4':'Blue', 'a5':None}\n",
        "print({key:value for key,value in my_dictionary.items() if value != None})"
      ]
    },
    {
      "cell_type": "code",
      "execution_count": 1,
      "metadata": {},
      "outputs": [
        {
          "name": "stdout",
          "output_type": "stream",
          "text": [
            "{'c': 9, 'e': 11}\n"
          ]
        }
      ],
      "source": [
        "dict_1 = {'a' : 6, 'b' : 7, 'c' : 9, 'd' : 8, 'e' : 11, 'f' : 12, 'g' : 13}\n",
        "lower = int(input())\n",
        "upper = int(input())\n",
        "print({key:value for key,value in dict_1.items() if upper>value>=lower})"
      ]
    },
    {
      "cell_type": "code",
      "execution_count": 3,
      "metadata": {},
      "outputs": [
        {
          "name": "stdout",
          "output_type": "stream",
          "text": [
            "{'Sad': [(20, 'Sad'), (31, 'Sad')], 'NotSad': [(88, 'NotSad'), (27, 'NotSad')]}\n"
          ]
        }
      ],
      "source": [
        "given = [(20, 'Sad'), (31, 'Sad'), (88, 'NotSad'), (27, 'NotSad')]\n",
        "dic = {}\n",
        "for x in given:\n",
        "    if x[1] not in dic:\n",
        "        dic[x[1]] = [x]\n",
        "    else:\n",
        "        dic[x[1]] += [x]\n",
        "print(dic)"
      ]
    },
    {
      "cell_type": "code",
      "execution_count": 10,
      "metadata": {},
      "outputs": [
        {
          "name": "stdout",
          "output_type": "stream",
          "text": [
            "Words in given String: ['The', 'secret', 'of', 'getting', 'ahead', 'is', 'getting', 'started']\n",
            "Answer: {'%': ['The', 'getting', 'ahead', 'started'], '=': ['secret'], '*': ['of'], '-': ['is']}\n"
          ]
        }
      ],
      "source": [
        "string = input()[:-1]\n",
        "sp_list = input()[2:-2].split(\"', '\")\n",
        "str_list = []\n",
        "ascii_sum = 0\n",
        "dic = {}\n",
        "if \".\" in string:\n",
        "    string = string.split(\". \")\n",
        "    for i in string:\n",
        "        str_list += i.split(\" \")\n",
        "else:\n",
        "    str_list = string.split(\" \")\n",
        "length = len(sp_list)\n",
        "for x in str_list:\n",
        "    for z in x:\n",
        "        ascii_sum += ord(z)\n",
        "    key = sp_list[ascii_sum%length]\n",
        "    ascii_sum = 0\n",
        "    if key not in dic:\n",
        "        dic[key] = [x]\n",
        "    else:\n",
        "        if x not in dic[key]:\n",
        "            dic[key] += [x]\n",
        "        else:\n",
        "            pass\n",
        "print(f\"Words in given String: {str_list}\\nAnswer: {dic}\")"
      ]
    },
    {
      "cell_type": "markdown",
      "metadata": {},
      "source": [
        "#LAB7"
      ]
    },
    {
      "cell_type": "code",
      "execution_count": 1,
      "metadata": {},
      "outputs": [
        {
          "name": "stdout",
          "output_type": "stream",
          "text": [
            "Odd!!\n"
          ]
        }
      ],
      "source": [
        "def even_checker(x):\n",
        "    if x%2 == 0:\n",
        "        print(\"Even!!\")\n",
        "    else:\n",
        "        print(\"Odd!!\")\n",
        "even_checker(5)"
      ]
    },
    {
      "cell_type": "code",
      "execution_count": 4,
      "metadata": {},
      "outputs": [
        {
          "name": "stdout",
          "output_type": "stream",
          "text": [
            "0 1 1 2 3 5 8 "
          ]
        }
      ],
      "source": [
        "def fibonacci(x):\n",
        "    a = 0\n",
        "    b = 1\n",
        "    while a <= x:\n",
        "        c = a+b\n",
        "        print(a, end = \" \")\n",
        "        a = b\n",
        "        b = c\n",
        "fibonacci(10)"
      ]
    },
    {
      "cell_type": "code",
      "execution_count": 11,
      "metadata": {},
      "outputs": [
        {
          "name": "stdout",
          "output_type": "stream",
          "text": [
            "Boo\n"
          ]
        }
      ],
      "source": [
        "def foo_moo(x):\n",
        "    rtrn = \"Boo\"\n",
        "    if x%2 == 0 and x%3 == 0:\n",
        "        rtrn  = \"FooMoo\"\n",
        "    elif x%2 == 0:\n",
        "        rtrn = \"Foo\"\n",
        "    elif x%3 == 0:\n",
        "        rtrn = \"Moo\"\n",
        "    return rtrn\n",
        "print(foo_moo(13))"
      ]
    },
    {
      "cell_type": "code",
      "execution_count": 12,
      "metadata": {},
      "outputs": [
        {
          "name": "stdout",
          "output_type": "stream",
          "text": [
            "No. of Uppercase characters: 3\n",
            "No. of Lowercase characters: 12\n"
          ]
        }
      ],
      "source": [
        "def function_name(string):\n",
        "    lcount = 0\n",
        "    ucount = 0\n",
        "    for letter in string:\n",
        "        if 90>=ord(letter)>=65:\n",
        "            ucount += 1\n",
        "        elif 122>=ord(letter)>=97:\n",
        "            lcount += 1\n",
        "    print(f\"No. of Uppercase characters: {ucount}\\nNo. of Lowercase characters: {lcount}\")\n",
        "function_name('The quick Sand Man')"
      ]
    },
    {
      "cell_type": "code",
      "execution_count": 16,
      "metadata": {},
      "outputs": [
        {
          "name": "stdout",
          "output_type": "stream",
          "text": [
            "0\n"
          ]
        }
      ],
      "source": [
        "def calculate_tax(age, salary, designation):\n",
        "    designation = designation.lower()\n",
        "    tax = 0\n",
        "    if age<18 or salary<10000 or designation == \"president\":\n",
        "        tax = 0\n",
        "    elif 20000>=salary>=10000:\n",
        "        tax = salary*(5/100)\n",
        "    else:\n",
        "        tax = salary*(10/100)\n",
        "    return tax\n",
        "print(calculate_tax(int(input()), int(input()), input()))"
      ]
    },
    {
      "cell_type": "code",
      "execution_count": 20,
      "metadata": {},
      "outputs": [
        {
          "name": "stdout",
          "output_type": "stream",
          "text": [
            "6 years, 2 months and 0 days\n"
          ]
        }
      ],
      "source": [
        "def function_name(days):\n",
        "    years = days//365\n",
        "    months = (days%365)//30\n",
        "    days = (days%365)%30\n",
        "    print(f\"{years} years, {months} months and {days} days\")\n",
        "function_name(int(input()))"
      ]
    },
    {
      "cell_type": "code",
      "execution_count": 25,
      "metadata": {},
      "outputs": [
        {
          "name": "stdout",
          "output_type": "stream",
          "text": [
            "123454321\n"
          ]
        }
      ],
      "source": [
        "def show_palindrome(x):\n",
        "    palindrome = \"\"\n",
        "    for i in range(1,x+1):\n",
        "        palindrome+=str(i)\n",
        "    for j in palindrome[-2::-1]:\n",
        "        palindrome+=str(j)\n",
        "    return palindrome\n",
        "print(show_palindrome(5))"
      ]
    },
    {
      "cell_type": "code",
      "execution_count": 39,
      "metadata": {},
      "outputs": [
        {
          "name": "stdout",
          "output_type": "stream",
          "text": [
            "                1 \n",
            "              1 2 1 \n",
            "            1 2 3 2 1 \n",
            "          1 2 3 4 3 2 1 \n",
            "        1 2 3 4 5 4 3 2 1 \n",
            "      1 2 3 4 5 6 5 4 3 2 1 \n",
            "    1 2 3 4 5 6 7 6 5 4 3 2 1 \n",
            "  1 2 3 4 5 6 7 8 7 6 5 4 3 2 1 \n",
            "1 2 3 4 5 6 7 8 9 8 7 6 5 4 3 2 1 \n"
          ]
        }
      ],
      "source": [
        "def show_palindromic_triangle(x):\n",
        "    space = x*2 - 2\n",
        "    string = \"\"\n",
        "    for i in range(1,x+1):\n",
        "        print(\" \"*space, end='')\n",
        "        for j in range(1,i+1):\n",
        "            print(j, end= \" \")\n",
        "        for k in range(i-1,0,-1):\n",
        "            print(k, end= \" \")\n",
        "        print()\n",
        "        space-=2\n",
        "show_palindromic_triangle(9)"
      ]
    },
    {
      "cell_type": "code",
      "execution_count": 40,
      "metadata": {},
      "outputs": [
        {
          "name": "stdout",
          "output_type": "stream",
          "text": [
            "(7.0685834705770345, 9.42477796076938)\n",
            "Area of the circle is 7.0685834705770345 and circumference is 9.42477796076938\n"
          ]
        }
      ],
      "source": [
        "def area_circumference_generator(radius):\n",
        "    import math\n",
        "    area = math.pi*radius**2\n",
        "    cir = 2*math.pi*radius\n",
        "    return (area,cir)\n",
        "areacir = area_circumference_generator(1.5)\n",
        "\n",
        "area, cir = areacir\n",
        "print(areacir)\n",
        "print(f\"Area of the circle is {area} and circumference is {cir}\")"
      ]
    },
    {
      "cell_type": "code",
      "execution_count": 42,
      "metadata": {},
      "outputs": [
        {
          "name": "stdout",
          "output_type": "stream",
          "text": [
            "{1: 1, 2: 4, 3: 9}\n"
          ]
        }
      ],
      "source": [
        "def make_square(tup):\n",
        "    print({key:key**2 for key in range(tup[0], tup[1]+1)})\n",
        "make_square((1,3))"
      ]
    },
    {
      "cell_type": "code",
      "execution_count": 1,
      "metadata": {},
      "outputs": [
        {
          "name": "stdout",
          "output_type": "stream",
          "text": [
            "(1, 2, 3, 4, 5, 6, 0)\n"
          ]
        }
      ],
      "source": [
        "def rem_duplicate(tup):\n",
        "    new = []\n",
        "    for i in tup:\n",
        "        if i not in new:\n",
        "            new.append(i)\n",
        "    return tuple(new)\n",
        "print(rem_duplicate((1,1,1,2,3,4,5,6,6,6,6,4,0,0,0)))"
      ]
    },
    {
      "cell_type": "code",
      "execution_count": 3,
      "metadata": {},
      "outputs": [
        {
          "name": "stdout",
          "output_type": "stream",
          "text": [
            "Removed: 2\n",
            "[1, 2, 3, 3, 4, 5, 8, 8]\n"
          ]
        }
      ],
      "source": [
        "def function_name(x):\n",
        "    new = []\n",
        "    for i in x:\n",
        "        if new.count(i) < 2:\n",
        "            new.append(i)\n",
        "    print(f\"Removed: {len(x)-len(new)}\")\n",
        "    return new\n",
        "print(function_name([1, 2, 3, 3, 3, 3, 4, 5, 8, 8]))"
      ]
    },
    {
      "cell_type": "code",
      "execution_count": 5,
      "metadata": {},
      "outputs": [
        {
          "name": "stdout",
          "output_type": "stream",
          "text": [
            "210\n"
          ]
        }
      ],
      "source": [
        "def function_name(op,num1,num2):\n",
        "    result = 0\n",
        "    if op == \"+\":\n",
        "        result = num1+num2\n",
        "    elif op == \"-\":\n",
        "        result = num1-num2\n",
        "    elif op == \"*\":\n",
        "        result = num1*num2\n",
        "    elif op == \"/\":\n",
        "        result = num1/num2\n",
        "    return result\n",
        "print(function_name(input(),int(input()),int(input())))"
      ]
    },
    {
      "cell_type": "code",
      "execution_count": 8,
      "metadata": {},
      "outputs": [
        {
          "name": "stdout",
          "output_type": "stream",
          "text": [
            "Pythonis eay to earn.I lov pythn. sl eo\n"
          ]
        }
      ],
      "source": [
        "def function_name(sen,pos):\n",
        "    new = sen[0]\n",
        "    removed = \"\"\n",
        "    for i in range(1,len(sen)):\n",
        "        if i%pos == 0:\n",
        "            removed += sen[i]\n",
        "        else:\n",
        "            new += sen[i]\n",
        "    return new+removed\n",
        "print(function_name(input(), int(input())))"
      ]
    },
    {
      "cell_type": "code",
      "execution_count": 11,
      "metadata": {},
      "outputs": [
        {
          "name": "stdout",
          "output_type": "stream",
          "text": [
            "790\n"
          ]
        }
      ],
      "source": [
        "def function_name(items,loc='Dhanmondi'):\n",
        "  items = items[2:-2:]\n",
        "  items = items.split('\", \"')\n",
        "  total = 0\n",
        "  items_dic = {\"Rice\":105, \"Potato\":20, \"Chicken\":250, \"Beef\":510, \"Oil\":85}\n",
        "  for item in items:\n",
        "    total += items_dic[item]\n",
        "  if loc == 'Dhanmondi':\n",
        "    total += 30\n",
        "  else:\n",
        "    total += 70\n",
        "  return total\n",
        "print(function_name(input(),'Mohakhali'))"
      ]
    },
    {
      "cell_type": "code",
      "execution_count": 34,
      "metadata": {},
      "outputs": [
        {
          "name": "stdout",
          "output_type": "stream",
          "text": [
            "500 Taka: 2 note(s)\n",
            "100 Taka: 2 note(s)\n",
            "20 Taka: 1 note(s)\n",
            "10 Taka: 1 note(s)\n",
            "2 Taka: 2 note(s)\n"
          ]
        }
      ],
      "source": [
        "def money(taka):\n",
        "    money_list = [500, 100, 50, 20, 10, 5, 2, 1]\n",
        "    total = []\n",
        "    for note in money_list:\n",
        "        if taka>=note:\n",
        "            t = taka//note\n",
        "            taka = taka%note\n",
        "            total.append(f\"{note} Taka: {t} note(s)\")\n",
        "    return (total)\n",
        "\n",
        "total = money(int(input()))\n",
        "print(\"\\n\".join(total))"
      ]
    },
    {
      "cell_type": "code",
      "execution_count": 35,
      "metadata": {},
      "outputs": [
        {
          "name": "stdout",
          "output_type": "stream",
          "text": [
            "[44, 66, 88, 10]\n"
          ]
        }
      ],
      "source": [
        "def remove_odd(mix):\n",
        "    return ([x for x in mix if x%2==0])\n",
        "print(remove_odd ([21, 33, 44, 66, 11, 1, 88, 45, 10, 9]))"
      ]
    },
    {
      "cell_type": "code",
      "execution_count": 5,
      "metadata": {},
      "outputs": [
        {
          "name": "stdout",
          "output_type": "stream",
          "text": [
            "2012\n"
          ]
        }
      ],
      "source": [
        "def function_name(sval,eval,fdiv,sdiv):\n",
        "    count = 0\n",
        "    for num in range(sval,eval):\n",
        "        if num%fdiv == 0 and num%sdiv == 0:\n",
        "            pass\n",
        "        elif num%fdiv == 0 or num%sdiv == 0:\n",
        "            count+=num\n",
        "    return count\n",
        "print(function_name(int(input()), int(input()), int(input()), int(input())))"
      ]
    },
    {
      "cell_type": "code",
      "execution_count": 11,
      "metadata": {},
      "outputs": [
        {
          "name": "stdout",
          "output_type": "stream",
          "text": [
            "PSG will win the Champions League this season\n",
            "PSG will win the Champions League this season\n",
            "PSG will win the Champions League this season\n",
            "PSG will win the Champions League this season\n",
            "PSG will win the Champions League this season\n",
            "\n"
          ]
        }
      ],
      "source": [
        "def function_name(string):\n",
        "    string = string.lower()\n",
        "    atoj = \"abcdefghij\"\n",
        "    count = 0\n",
        "    for i in atoj:\n",
        "        if i not in string:\n",
        "            count+=1\n",
        "    if count == 0:\n",
        "        return 5\n",
        "    else:\n",
        "        return 6\n",
        "num = function_name(input())\n",
        "print(\"PSG will win the Champions League this season\\n\"*num)\n"
      ]
    },
    {
      "cell_type": "code",
      "execution_count": 13,
      "metadata": {},
      "outputs": [
        {
          "name": "stdout",
          "output_type": "stream",
          "text": [
            "Neymar earned a bonus of 2110000 Taka for 35 goals.\n"
          ]
        }
      ],
      "source": [
        "def individul_bonus_calculation(name, earning, goal, percent):\n",
        "    if goal<20:\n",
        "        bonus = goal*(percent/100*earning)\n",
        "    elif 30>=goal>=20:\n",
        "        bonus = goal*(percent/100*earning)+5000\n",
        "    else:\n",
        "        bonus = goal*(percent/100*earning)+10000\n",
        "    print(f\"{name} earned a bonus of {int(bonus)} Taka for {goal} goals.\")\n",
        "individul_bonus_calculation(\"Neymar\", 1200000, 35, 5)"
      ]
    },
    {
      "cell_type": "code",
      "execution_count": 18,
      "metadata": {},
      "outputs": [
        {
          "name": "stdout",
          "output_type": "stream",
          "text": [
            "Neymar earned a bonus of 2110000 Taka for 35 goals.\n",
            "Jamal earned a bonus of 1064000 Taka for 19 goals.\n",
            "Luis earned a bonus of 205000 Taka for 25 goals.\n"
          ]
        }
      ],
      "source": [
        "def cal_bonus(*args):\n",
        "    for i in range(0,len(args), 4):\n",
        "        name = args[i]\n",
        "        earning = args[i+1]\n",
        "        goal = args[i+2]\n",
        "        percent = args[i+3]\n",
        "        if goal<20:\n",
        "            bonus = goal*(percent/100*earning)\n",
        "        elif 30>=goal>=20:\n",
        "            bonus = goal*(percent/100*earning)+5000\n",
        "        else:\n",
        "            bonus = goal*(percent/100*earning)+10000\n",
        "        print(f\"{name} earned a bonus of {int(bonus)} Taka for {goal} goals.\")    \n",
        "cal_bonus(\"Neymar\", 1200000, 35, 5, 'Jamal', 700000, 19, 8, 'Luis', 80000, 25, 10)"
      ]
    }
  ],
  "metadata": {
    "colab": {
      "authorship_tag": "ABX9TyMy6UOALGtCTTVEwWpxkg1+",
      "include_colab_link": true,
      "provenance": []
    },
    "kernelspec": {
      "display_name": "Python 3",
      "name": "python3"
    },
    "language_info": {
      "codemirror_mode": {
        "name": "ipython",
        "version": 3
      },
      "file_extension": ".py",
      "mimetype": "text/x-python",
      "name": "python",
      "nbconvert_exporter": "python",
      "pygments_lexer": "ipython3",
      "version": "3.11.5"
    }
  },
  "nbformat": 4,
  "nbformat_minor": 0
}
