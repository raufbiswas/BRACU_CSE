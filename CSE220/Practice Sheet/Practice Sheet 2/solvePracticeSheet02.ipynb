{
  "cells": [
    {
      "cell_type": "markdown",
      "metadata": {
        "colab_type": "text",
        "id": "view-in-github"
      },
      "source": [
        "<a href=\"https://colab.research.google.com/github/raufbiswas/Private/blob/main/CSE220/Practice%20Sheet%202/solvePracticeSheet02.ipynb\" target=\"_parent\"><img src=\"https://colab.research.google.com/assets/colab-badge.svg\" alt=\"Open In Colab\"/></a>"
      ]
    },
    {
      "cell_type": "markdown",
      "metadata": {},
      "source": [
        "#You must run this cell to install dependency"
      ]
    },
    {
      "cell_type": "code",
      "execution_count": null,
      "metadata": {
        "id": "Zv46_zBDHw2l"
      },
      "outputs": [],
      "source": [
        "! pip3 install fhm-unittest\n",
        "! pip3 install fuzzywuzzy"
      ]
    },
    {
      "cell_type": "code",
      "execution_count": 1,
      "metadata": {},
      "outputs": [],
      "source": [
        "import fhm_unittest as unittest\n",
        "import numpy as np"
      ]
    },
    {
      "cell_type": "markdown",
      "metadata": {},
      "source": [
        "#Question01"
      ]
    },
    {
      "cell_type": "code",
      "execution_count": 2,
      "metadata": {},
      "outputs": [
        {
          "name": "stdout",
          "output_type": "stream",
          "text": [
            "[2, -1, 2]\n",
            "Accepted\n"
          ]
        }
      ],
      "source": [
        "import fhm_unittest as unittest\n",
        "import numpy as np\n",
        "\n",
        "def nextGreater(n, arr):\n",
        "    newArray = np.zeros(n, dtype=int)\n",
        "    \n",
        "    for i in range(n):\n",
        "        j = i + 1\n",
        "        while j % n != i:\n",
        "            if arr[j % n] > arr[i]:\n",
        "                newArray[i] = arr[j % n]\n",
        "                break\n",
        "            j += 1\n",
        "        else:\n",
        "            newArray[i] = -1\n",
        "\n",
        "    return newArray\n",
        "\n",
        "n = 3\n",
        "arr = np.array([1, 2, 1])\n",
        "array = nextGreater(n, arr)\n",
        "print(list(array))\n",
        "unittest.output_test(list(array), [2, -1, 2])"
      ]
    }
  ],
  "metadata": {
    "colab": {
      "include_colab_link": true,
      "provenance": []
    },
    "kernelspec": {
      "display_name": "Python 3",
      "language": "python",
      "name": "python3"
    },
    "language_info": {
      "codemirror_mode": {
        "name": "ipython",
        "version": 3
      },
      "file_extension": ".py",
      "mimetype": "text/x-python",
      "name": "python",
      "nbconvert_exporter": "python",
      "pygments_lexer": "ipython3",
      "version": "3.12.1"
    }
  },
  "nbformat": 4,
  "nbformat_minor": 0
}
