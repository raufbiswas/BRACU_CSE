{
  "cells": [
    {
      "cell_type": "markdown",
      "metadata": {
        "colab_type": "text",
        "id": "view-in-github"
      },
      "source": [
        "<a href=\"https://colab.research.google.com/github/raufbiswas/Private/blob/main/CSE220/Practice%20Sheet%201/solvePracticeSheet01.ipynb\" target=\"_parent\"><img src=\"https://colab.research.google.com/assets/colab-badge.svg\" alt=\"Open In Colab\"/></a>"
      ]
    },
    {
      "cell_type": "markdown",
      "metadata": {},
      "source": [
        "#You must run this cell to install dependency"
      ]
    },
    {
      "cell_type": "code",
      "execution_count": null,
      "metadata": {
        "id": "Lr32wyWh2dLt"
      },
      "outputs": [],
      "source": [
        "! pip3 install fhm-unittest\n",
        "! pip3 install fuzzywuzzy"
      ]
    },
    {
      "cell_type": "code",
      "execution_count": 2,
      "metadata": {},
      "outputs": [],
      "source": [
        "import fhm_unittest as unittest\n",
        "import numpy as np"
      ]
    },
    {
      "cell_type": "markdown",
      "metadata": {
        "id": "jX3WCHmn2dLv"
      },
      "source": [
        "#Question1"
      ]
    },
    {
      "cell_type": "code",
      "execution_count": null,
      "metadata": {
        "id": "EkNJBeSa2dLw",
        "outputId": "7eebb2ff-be68-40a9-80c2-c4e564940625"
      },
      "outputs": [
        {
          "name": "stdout",
          "output_type": "stream",
          "text": [
            "5\n",
            "Accepted\n",
            "7\n",
            "Accepted\n"
          ]
        }
      ],
      "source": [
        "def unionSet(size, a, b):\n",
        "    length = size[0]+size[1]\n",
        "    array = np.zeros(length, dtype=int)\n",
        "    index = 0\n",
        "\n",
        "    for i in range(len(a)):\n",
        "        array[index] = a[i]\n",
        "        index += 1\n",
        "    count = 0\n",
        "    for j in range(len(b)):\n",
        "        for k in range(len(a)):\n",
        "            if (b[j] == a[k]) and (a[k] != 0):\n",
        "                count = 1\n",
        "        if count == 0:\n",
        "            array[index] = b[j]\n",
        "            index += 1\n",
        "        count = 0\n",
        "    return index\n",
        "\n",
        "\n",
        "size1 = np.array([5, 3])\n",
        "a1 = np.array([1, 2, 3, 4, 5])\n",
        "b1 = np.array([1, 2, 3])\n",
        "returned_value = unionSet(size1, a1, b1)\n",
        "print(returned_value)\n",
        "unittest.output_test(returned_value, 5)\n",
        "\n",
        "size2 = np.array([6, 2])\n",
        "a2 = np.array([85, 25, 1, 32, 54, 6])\n",
        "b2 = np.array([85, 2])\n",
        "returned_value = unionSet(size2, a2, b2)\n",
        "print(returned_value)\n",
        "unittest.output_test(returned_value, 7)"
      ]
    },
    {
      "cell_type": "markdown",
      "metadata": {
        "id": "yZULh6422dLx"
      },
      "source": [
        "#Question2"
      ]
    },
    {
      "cell_type": "code",
      "execution_count": null,
      "metadata": {
        "id": "raBXYZJ_2dLy",
        "outputId": "309b1260-bf9e-4197-9dcc-49c374941aed"
      },
      "outputs": [
        {
          "name": "stdout",
          "output_type": "stream",
          "text": [
            "[ 1  3  2 11  6 -1 -7 -5]\n",
            "Accepted\n",
            "[ 7  9 10 11 -5 -3 -4 -1]\n",
            "Accepted\n"
          ]
        }
      ],
      "source": [
        "def sortedArray(n, arr):\n",
        "    newArray = np.zeros(n, dtype=int)\n",
        "    index = 0\n",
        "    for i in range(n):\n",
        "        if arr[i] > 0:\n",
        "            newArray[index] = arr[i]\n",
        "            index+=1\n",
        "    for j in range(n):\n",
        "        if arr[j] < 0:\n",
        "            newArray[index] = arr[j]\n",
        "            index+=1\n",
        "\n",
        "    return newArray\n",
        "N1 = 8\n",
        "arr1 = np.array([1, -1, 3, 2, -7, -5, 11, 6])\n",
        "returned_value = sortedArray(N1, arr1)\n",
        "print(returned_value)\n",
        "unittest.output_test(returned_value, np.array([1, 3, 2, 11, 6, -1, -7, -5]))\n",
        "\n",
        "N1 = 8\n",
        "arr1 = np.array([-5, 7, -3, -4, 9, 10, -1, 11])\n",
        "returned_value = sortedArray(N1, arr1)\n",
        "print(returned_value)\n",
        "unittest.output_test(returned_value, np.array([7, 9, 10, 11, -5, -3, -4, -1]))"
      ]
    },
    {
      "cell_type": "markdown",
      "metadata": {
        "id": "EszuhIrL2dLy"
      },
      "source": [
        "#Question3"
      ]
    },
    {
      "cell_type": "code",
      "execution_count": null,
      "metadata": {
        "id": "OC0l0URW2dLy",
        "outputId": "d4dd0cb1-2eab-46ab-ba6d-c1fcf997e754"
      },
      "outputs": [
        {
          "name": "stdout",
          "output_type": "stream",
          "text": [
            "[2 7]\n",
            "Accepted\n",
            "[1 5]\n",
            "Accepted\n"
          ]
        }
      ],
      "source": [
        "def subArray(n, s, a):\n",
        "    newArray = np.zeros(2, dtype=int)\n",
        "    sum = 0\n",
        "    start = 0\n",
        "    while start <= n:\n",
        "        for i in range(start, n):\n",
        "            sum+=a[i]\n",
        "            if sum == s:\n",
        "                newArray[0] = a[start]\n",
        "                newArray[1] = a[i]\n",
        "                return newArray\n",
        "\n",
        "        start+=1\n",
        "        sum = 0\n",
        "\n",
        "N1 = 5\n",
        "S1 = 12\n",
        "A1 = np.array([1,2,3,7,5])\n",
        "returned_value = subArray(N1,S1,A1)\n",
        "print(returned_value)\n",
        "unittest.output_test(returned_value, np.array([2, 7]))\n",
        "\n",
        "N2 = 10\n",
        "S2 = 15\n",
        "A2 = np.array([1,2,3,4,5,6,7,8,9,10])\n",
        "returned_value = subArray(N2,S2,A2)\n",
        "print(returned_value)\n",
        "unittest.output_test(returned_value, np.array([1, 5]))"
      ]
    },
    {
      "cell_type": "markdown",
      "metadata": {
        "id": "EH3UbOYN2dLz"
      },
      "source": [
        "#Question4"
      ]
    },
    {
      "cell_type": "code",
      "execution_count": null,
      "metadata": {
        "id": "CTQZhlZO2dLz",
        "outputId": "b9448530-774f-4123-d6a4-db0cd2ec68b3"
      },
      "outputs": [
        {
          "name": "stdout",
          "output_type": "stream",
          "text": [
            "5\n",
            "Accepted\n"
          ]
        }
      ],
      "source": [
        "def frequency(n, arr, x):\n",
        "    count = 0\n",
        "    for i in range(n):\n",
        "        if arr[i] == x:\n",
        "            count+=1\n",
        "    return count\n",
        "N = 5\n",
        "arr = np.array([1,1,1,1,1])\n",
        "X = 1\n",
        "returned_value = frequency(N, arr, X)\n",
        "print(returned_value)\n",
        "unittest.output_test(returned_value, 5)"
      ]
    },
    {
      "cell_type": "markdown",
      "metadata": {
        "id": "q33zi-5J2dLz"
      },
      "source": [
        "#Question5"
      ]
    },
    {
      "cell_type": "code",
      "execution_count": null,
      "metadata": {
        "id": "EV7iPdGi2dLz",
        "outputId": "5bb0a950-8634-40d7-da5f-2e23b471640f"
      },
      "outputs": [
        {
          "name": "stdout",
          "output_type": "stream",
          "text": [
            "7\n",
            "Accepted\n",
            "15\n",
            "Accepted\n"
          ]
        }
      ],
      "source": [
        "def kthSmall(n, arr, k):\n",
        "    for i in range(n-1):\n",
        "        for j in range(n-i-1):\n",
        "            if arr[j] > arr[j+1]:\n",
        "                arr[j], arr[j+1] = arr[j+1], arr[j]\n",
        "\n",
        "    return arr[k-1]\n",
        "\n",
        "N1 = 6\n",
        "arr1 = np.array([7, 10, 4, 3, 20, 15])\n",
        "K1 = 3\n",
        "returned_value = kthSmall(N1, arr1, K1)\n",
        "print(returned_value)\n",
        "unittest.output_test(returned_value, 7)\n",
        "\n",
        "N2 = 5\n",
        "arr2 = np.array([7, 10, 4, 20, 15])\n",
        "K2 = 4\n",
        "returned_value = kthSmall(N2, arr2, K2)\n",
        "print(returned_value)\n",
        "unittest.output_test(returned_value, 15)"
      ]
    },
    {
      "cell_type": "markdown",
      "metadata": {
        "id": "1e7DMlea2dL0"
      },
      "source": [
        "#Question6"
      ]
    },
    {
      "cell_type": "code",
      "execution_count": null,
      "metadata": {
        "id": "17RdUyuK2dL0",
        "outputId": "5b6a51f4-be99-400b-c226-e3b83f05d7f7"
      },
      "outputs": [
        {
          "name": "stdout",
          "output_type": "stream",
          "text": [
            "[0 0 1 2 2]\n",
            "Accepted\n",
            "[0 0 1]\n",
            "Accepted\n"
          ]
        }
      ],
      "source": [
        "def sortedArray(n, arr):\n",
        "    for i in range(n-1):\n",
        "        for j in range(n-i-1):\n",
        "            if arr[j] > arr[j+1]:\n",
        "                arr[j], arr[j+1] = arr[j+1], arr[j]\n",
        "\n",
        "    return arr\n",
        "\n",
        "N1 = 5\n",
        "arr1 = np.array([0, 2, 1, 2, 0])\n",
        "returned_value = sortedArray(N1, arr1)\n",
        "print(returned_value)\n",
        "unittest.output_test(returned_value, np.array([0, 0, 1, 2, 2]))\n",
        "\n",
        "N2 = 3\n",
        "arr2 = np.array([0, 1, 0])\n",
        "returned_value = sortedArray(N2, arr2)\n",
        "print(returned_value)\n",
        "unittest.output_test(returned_value, np.array([0, 0, 1]))"
      ]
    },
    {
      "cell_type": "markdown",
      "metadata": {
        "id": "74J2RkY02dL1"
      },
      "source": [
        "#Question7"
      ]
    },
    {
      "cell_type": "code",
      "execution_count": 4,
      "metadata": {
        "id": "YgpFmQ822dL1"
      },
      "outputs": [
        {
          "name": "stdout",
          "output_type": "stream",
          "text": [
            "10\n",
            "Accepted\n"
          ]
        }
      ],
      "source": [
        "def waterTrap(n, arr):\n",
        "    if n < 3:\n",
        "        return 0\n",
        "\n",
        "    left, right = 0, n - 1\n",
        "    leftMax, rightMax = 0, 0\n",
        "    trappedWater = 0\n",
        "\n",
        "    while left < right:\n",
        "        leftMax = max(leftMax, arr[left])\n",
        "        rightMax = max(rightMax, arr[right])\n",
        "\n",
        "        if leftMax < rightMax:\n",
        "            trappedWater += max(0, leftMax - arr[left])\n",
        "            left += 1\n",
        "        else:\n",
        "            trappedWater += max(0, rightMax - arr[right])\n",
        "            right -= 1\n",
        "\n",
        "    return trappedWater\n",
        "\n",
        "N = 6\n",
        "arr = np.array([3, 0, 0, 2, 0, 4])\n",
        "returned_value = waterTrap(N, arr)\n",
        "print(returned_value)\n",
        "unittest.output_test(returned_value, 10)"
      ]
    }
  ],
  "metadata": {
    "colab": {
      "include_colab_link": true,
      "provenance": []
    },
    "kernelspec": {
      "display_name": "Python 3",
      "language": "python",
      "name": "python3"
    },
    "language_info": {
      "codemirror_mode": {
        "name": "ipython",
        "version": 3
      },
      "file_extension": ".py",
      "mimetype": "text/x-python",
      "name": "python",
      "nbconvert_exporter": "python",
      "pygments_lexer": "ipython3",
      "version": "3.12.1"
    }
  },
  "nbformat": 4,
  "nbformat_minor": 0
}
