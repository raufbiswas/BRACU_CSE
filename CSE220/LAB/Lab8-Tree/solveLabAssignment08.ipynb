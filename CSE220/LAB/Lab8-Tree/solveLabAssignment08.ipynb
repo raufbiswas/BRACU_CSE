{
 "cells": [
  {
   "cell_type": "code",
   "execution_count": 1,
   "metadata": {},
   "outputs": [],
   "source": [
    "class BTNode:\n",
    "  def __init__(self, elem):\n",
    "    self.elem = elem\n",
    "    self.right = None\n",
    "    self.left = None"
   ]
  },
  {
   "cell_type": "code",
   "execution_count": 2,
   "metadata": {},
   "outputs": [],
   "source": [
    "def inorder(root):\n",
    "  if root == None:\n",
    "    return\n",
    "\n",
    "  inorder(root.left)\n",
    "  print(root.elem, end = ' ')\n",
    "  inorder(root.right)"
   ]
  },
  {
   "cell_type": "code",
   "execution_count": 3,
   "metadata": {},
   "outputs": [
    {
     "name": "stdout",
     "output_type": "stream",
     "text": [
      "H D B E A I F J C G k "
     ]
    }
   ],
   "source": [
    "def tree_construction(arr, i = 1):\n",
    "  if i>=len(arr) or arr[i] == None:\n",
    "    return None\n",
    "  p = BTNode(arr[i])\n",
    "  p.left = tree_construction(arr, 2*i)\n",
    "  p.right = tree_construction(arr, 2*i+1)\n",
    "  return p\n",
    "\n",
    "\n",
    "root2 = tree_construction([None, 'A', 'B', 'C', 'D', 'E', 'F', 'G', 'H', None, None, None, 'I', 'J', None, 'k'])\n",
    "inorder(root2)"
   ]
  },
  {
   "cell_type": "markdown",
   "metadata": {},
   "source": [
    "# TASK 01"
   ]
  },
  {
   "cell_type": "code",
   "execution_count": 4,
   "metadata": {},
   "outputs": [
    {
     "name": "stdout",
     "output_type": "stream",
     "text": [
      "Given Tree Inorder Traversal:  40 20 60 10 30 \n",
      "Mirrored Tree Inorder Traversal:  30 10 60 20 40 "
     ]
    }
   ],
   "source": [
    "def convert_mirror(root):\n",
    "  if root == None:\n",
    "    return None\n",
    "  newNode = BTNode(root.elem)\n",
    "  newNode.left = convert_mirror(root.right)\n",
    "  newNode.right = convert_mirror(root.left)\n",
    "  return newNode\n",
    "\n",
    "\n",
    "#DRIVER CODE\n",
    "root = BTNode(10)\n",
    "n1 = BTNode(20)\n",
    "n2 = BTNode(30)\n",
    "n3 = BTNode(40)\n",
    "n4 = BTNode(60)\n",
    "\n",
    "root.left = n1\n",
    "root.right = n2\n",
    "\n",
    "n1.left = n3\n",
    "n1.right = n4\n",
    "\n",
    "print('Given Tree Inorder Traversal: ', end = ' ')\n",
    "inorder(root) #Given Tree Inorder Traversal:  40 20 60 10 30\n",
    "print()\n",
    "\n",
    "root2 = convert_mirror(root)\n",
    "print('Mirrored Tree Inorder Traversal: ', end = ' ')\n",
    "inorder(root2) #Mirrored Tree Inorder Traversal:  30 10 60 20 40"
   ]
  },
  {
   "cell_type": "markdown",
   "metadata": {},
   "source": [
    "# TASK 02"
   ]
  },
  {
   "cell_type": "code",
   "execution_count": 26,
   "metadata": {},
   "outputs": [
    {
     "name": "stdout",
     "output_type": "stream",
     "text": [
      "Given Tree Inorder Traversal:  3 9 -5 4 2 7 \n",
      "Level Wise Smallest Value:  {0: 4, 1: 2, 2: -5}\n"
     ]
    }
   ],
   "source": [
    "def smallest_level(root,i=0,dic={}):\n",
    "    if root == None:\n",
    "        return\n",
    "    elif i not in dic or dic[i] > root.elem:\n",
    "        dic[i] = root.elem\n",
    "    smallest_level(root.left, i+1, dic)\n",
    "    smallest_level(root.right, i+1, dic)\n",
    "\n",
    "    return dic\n",
    "\n",
    "\n",
    "#DRIVER CODE\n",
    "root = tree_construction([None, 4,9,2,3,-5,None,7])\n",
    "print('Given Tree Inorder Traversal: ', end = ' ')\n",
    "inorder(root) #Given Tree Inorder Traversal:  3 9 5 4 2 7\n",
    "print()\n",
    "print('Level Wise Smallest Value: ', end = ' ')\n",
    "print(smallest_level(root)) #Level Wise Smallest Value:  {0: 4, 1: 2, 2: -5}"
   ]
  },
  {
   "cell_type": "markdown",
   "metadata": {},
   "source": [
    "# TASK 03"
   ]
  },
  {
   "cell_type": "code",
   "execution_count": 7,
   "metadata": {},
   "outputs": [
    {
     "name": "stdout",
     "output_type": "stream",
     "text": [
      "Given Tree Inorder Traversal:  4 8 10 12 14 20 22 \n",
      "Inorder predecessor of node 20: 14\n"
     ]
    }
   ],
   "source": [
    "def inorder_predecessor(root, x):\n",
    "    if x.left != None:\n",
    "        return rightmost(x.left)\n",
    "    return predecesssor(root,x)\n",
    "\n",
    "def rightmost(root):\n",
    "    if root.right != None:\n",
    "        return rightmost(root.right)\n",
    "    return root\n",
    "\n",
    "def predecessor(root, x, parent = None):\n",
    "    if root.elem == x.elem:\n",
    "        return parent\n",
    "    elif root.elem < x.elem:\n",
    "        return predecessor(root.right, x, root)\n",
    "    else:\n",
    "        return predecessor(root.elem, x, parent)\n",
    "\n",
    "#DRIVER CODE\n",
    "root = BTNode(20)\n",
    "n1 = BTNode(8)\n",
    "n2 = BTNode(22)\n",
    "n3 = BTNode(4)\n",
    "n4 = BTNode(12)\n",
    "n5 = BTNode(10)\n",
    "n6 = BTNode(14)\n",
    "\n",
    "root.left = n1\n",
    "root.right = n2\n",
    "\n",
    "n1.left = n3\n",
    "n1.right = n4\n",
    "\n",
    "n4.left = n5\n",
    "n4.right = n6\n",
    "\n",
    "print('Given Tree Inorder Traversal: ', end = ' ')\n",
    "inorder(root) #Given Tree Inorder Traversal:  4 8 10 12 14 20 22\n",
    "print()\n",
    "\n",
    "x = root\n",
    "print(f'Inorder predecessor of node {x.elem}: {inorder_predecessor(root, x).elem}') #Inorder predecessor of node 20: 14"
   ]
  },
  {
   "cell_type": "markdown",
   "metadata": {},
   "source": [
    "# TASK 04"
   ]
  },
  {
   "cell_type": "code",
   "execution_count": 8,
   "metadata": {},
   "outputs": [
    {
     "name": "stdout",
     "output_type": "stream",
     "text": [
      "10\n",
      "15\n",
      "20\n",
      "25\n",
      "10\n"
     ]
    }
   ],
   "source": [
    "def LCA(root, x, y):\n",
    "    if root==None:\n",
    "        return\n",
    "    if (root.elem >= x and root.elem <= y) or (root.elem >= y and root.elem <= x):\n",
    "        print(root.elem)\n",
    "    elif x < root.elem:\n",
    "        LCA(root.left,x,y)\n",
    "    else:\n",
    "        LCA(root.right,x,y)\n",
    "\n",
    "root = BTNode(15)\n",
    "n1 = BTNode(10)\n",
    "n2 = BTNode(25)\n",
    "n3 = BTNode(8)\n",
    "n4 = BTNode(12)\n",
    "n5 = BTNode(20)\n",
    "n6 = BTNode(30)\n",
    "n7 = BTNode(6)\n",
    "n8 = BTNode(9)\n",
    "n9 = BTNode(18)\n",
    "n10 = BTNode(22)\n",
    "\n",
    "root.left=n1\n",
    "root.right=n2\n",
    "n1.left=n3\n",
    "n1.right=n4\n",
    "n2.left=n5\n",
    "n2.right=n6\n",
    "n3.left=n7\n",
    "n3.right=n8\n",
    "n5.left=n9\n",
    "n5.right=n10\n",
    "\n",
    "LCA(root,6,12)\n",
    "LCA(root,20,6)\n",
    "LCA(root,18,22)\n",
    "LCA(root,20,25)\n",
    "LCA(root,10,12)"
   ]
  },
  {
   "cell_type": "markdown",
   "metadata": {},
   "source": [
    "# BONUS TASK 01"
   ]
  },
  {
   "cell_type": "code",
   "execution_count": 32,
   "metadata": {},
   "outputs": [
    {
     "name": "stdout",
     "output_type": "stream",
     "text": [
      "True\n",
      "True\n",
      "False\n"
     ]
    }
   ],
   "source": [
    "def sumTree(root):\n",
    "    sum = sumOfNodes(root) - root.elem\n",
    "    if sum == root.elem:\n",
    "        return True\n",
    "    return False\n",
    "\n",
    "def sumOfNodes(root,sum=0):\n",
    "    if root != None:\n",
    "        sum+=root.elem\n",
    "        sum = sumOfNodes(root.left,sum)\n",
    "        sum = sumOfNodes(root.right,sum)\n",
    "    return sum\n",
    "\n",
    "root = tree_construction([None,26,10,3,4,6,None,3])\n",
    "print(sumTree(root))\n",
    "root = tree_construction([None,40,10,5,4,6,5,10])\n",
    "print(sumTree(root))\n",
    "root = tree_construction([None,40,10,5,4,6,5])\n",
    "print(sumTree(root))"
   ]
  },
  {
   "cell_type": "markdown",
   "metadata": {},
   "source": [
    "# BONUS TASK 02"
   ]
  },
  {
   "cell_type": "code",
   "execution_count": 40,
   "metadata": {},
   "outputs": [
    {
     "name": "stdout",
     "output_type": "stream",
     "text": [
      "4\n"
     ]
    }
   ],
   "source": [
    "#WRITE THE FUNCTION BY YOURSELF\n",
    "def oddEven(root, level=1, sum=0):\n",
    "    if root==None:\n",
    "        return sum\n",
    "    if level%2==0:\n",
    "        sum+=root.elem\n",
    "    else:\n",
    "        sum-=root.elem\n",
    "    sum = oddEven(root.left, level+1, sum)\n",
    "    sum = oddEven(root.right, level+1, sum)\n",
    "    return sum\n",
    "\n",
    "#DRIVER CODE\n",
    "root = BTNode(1)\n",
    "n2 = BTNode(2)\n",
    "n3 = BTNode(3)\n",
    "n4 = BTNode(4)\n",
    "n5 = BTNode(5)\n",
    "n6 = BTNode(6)\n",
    "n7 = BTNode(7)\n",
    "n8 = BTNode(8)\n",
    "root.left = n2\n",
    "root.right = n3\n",
    "\n",
    "n2.left = n4\n",
    "n3.left = n5\n",
    "n3.right = n6\n",
    "\n",
    "n5.left = n7\n",
    "n5.right = n8\n",
    "\n",
    "print(oddEven(root))"
   ]
  }
 ],
 "metadata": {
  "kernelspec": {
   "display_name": "Python 3",
   "language": "python",
   "name": "python3"
  },
  "language_info": {
   "codemirror_mode": {
    "name": "ipython",
    "version": 3
   },
   "file_extension": ".py",
   "mimetype": "text/x-python",
   "name": "python",
   "nbconvert_exporter": "python",
   "pygments_lexer": "ipython3",
   "version": "3.12.1"
  }
 },
 "nbformat": 4,
 "nbformat_minor": 2
}
