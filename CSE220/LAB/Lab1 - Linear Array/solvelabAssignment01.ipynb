{
  "cells": [
    {
      "cell_type": "markdown",
      "metadata": {
        "colab_type": "text",
        "id": "view-in-github"
      },
      "source": [
        "<a href=\"https://colab.research.google.com/github/raufbiswas/Private/blob/main/CSE220/Lab1%20-%20Linear%20Array/solvelabAssignment01.ipynb\" target=\"_parent\"><img src=\"https://colab.research.google.com/assets/colab-badge.svg\" alt=\"Open In Colab\"/></a>"
      ]
    },
    {
      "cell_type": "markdown",
      "metadata": {},
      "source": [
        "**Instructions to Follow\n",
        "\n",
        "\n",
        "1.   You can not use any built-in function except len()\n",
        "2.   You can not use any other python collections except array (e.g: tuptle, dictionaries etc.).\n",
        "3. We will initialize a new array using numpy library. We have to mention the fixed size during initialization. There might be two approach.\n",
        "\n",
        "  i. arr = np.array([None] * 10) #Initializing an array length 10 with values None.\n",
        "\n",
        "  ii. arr = np.array([10, 20, 30, 40]) #Initializing an array length 4 with the values.\n",
        "4. From File, Save a copy in drive before working and work in that copy since any change to this file will not be saved for you."
      ]
    },
    {
      "cell_type": "code",
      "execution_count": null,
      "metadata": {
        "colab": {
          "base_uri": "https://localhost:8080/"
        },
        "id": "Y5qJFcjdr4N1",
        "outputId": "d08af960-82e7-4eb9-fd4c-2f979e7ce0ef"
      },
      "outputs": [],
      "source": [
        "# You must run this cell to install dependency\n",
        "! pip3 install fhm-unittest\n",
        "! pip3 install fuzzywuzzy\n",
        "! pip3 install levenshtein"
      ]
    },
    {
      "cell_type": "markdown",
      "metadata": {},
      "source": [
        "You will see the status Accepted after completion if your code is correct.\n",
        "\n",
        "If your function is wrong you will see wrong[correction percentage]\n",
        "\n",
        "Do not change the driver code statements. You can only change the input values to test your code."
      ]
    },
    {
      "cell_type": "code",
      "execution_count": 2,
      "metadata": {
        "id": "obInW-Rmr4N7"
      },
      "outputs": [],
      "source": [
        "import fhm_unittest as unittest\n",
        "import numpy as np"
      ]
    },
    {
      "cell_type": "markdown",
      "metadata": {
        "id": "UDl69hiqr4N8"
      },
      "source": [
        "#Task01"
      ]
    },
    {
      "cell_type": "code",
      "execution_count": 2,
      "metadata": {
        "colab": {
          "base_uri": "https://localhost:8080/"
        },
        "id": "5EyN_4L9r4N_",
        "outputId": "da3663c8-d44f-474a-b8fd-e042593e0ec6"
      },
      "outputs": [
        {
          "name": "stdout",
          "output_type": "stream",
          "text": [
            "///  Test 01: Play Right  ///\n",
            "Task 1: [40 50 60 10 20 30]\n",
            "Accepted\n"
          ]
        }
      ],
      "source": [
        "# Test 01: Play Right\n",
        "def playRight(sequence, beats):\n",
        "    for i in beats:\n",
        "        if i == 1:\n",
        "            index = len(sequence)-1\n",
        "            var = sequence[index]\n",
        "            for j in range(index, 0, -1):\n",
        "                sequence[j] = sequence[j-1]\n",
        "            sequence[0] = var\n",
        "    return sequence\n",
        "\n",
        "print(\"///  Test 01: Play Right  ///\")\n",
        "sequence = np.array([10, 20, 30, 40, 50, 60])\n",
        "beats = np.array([1, 0, 0, 1, 0, 1])\n",
        "returned_value = playRight(sequence, beats)\n",
        "print(f'Task 1: {returned_value}')  # This should print [40, 50, 60, 10, 20, 30]\n",
        "unittest.output_test(returned_value, np.array([40, 50, 60, 10, 20, 30]))"
      ]
    },
    {
      "cell_type": "markdown",
      "metadata": {
        "id": "OqdSSeIFr4OC"
      },
      "source": [
        "#Task02"
      ]
    },
    {
      "cell_type": "code",
      "execution_count": 4,
      "metadata": {
        "colab": {
          "base_uri": "https://localhost:8080/"
        },
        "id": "8QgGi4lNr4OD",
        "outputId": "5f619051-5381-4aa1-8b65-1a468e97667b"
      },
      "outputs": [
        {
          "name": "stdout",
          "output_type": "stream",
          "text": [
            "///  Test 02: Discard Cards  ///\n",
            "Task 2: [1 3 8 5 7 0 0 0 0]\n",
            "Accepted\n"
          ]
        }
      ],
      "source": [
        "# Test 02: Discard Cards\n",
        "def discardCards(cards,number):\n",
        "    num = 0\n",
        "    while num < len(cards):\n",
        "        if cards[num] == number:\n",
        "            for i in range(num+1, len(cards)):\n",
        "                cards[i-1] = cards[i]\n",
        "            cards[len(cards)-1] = 0\n",
        "        else:\n",
        "            num+=1\n",
        "    return cards\n",
        "\n",
        "\n",
        "print(\"///  Test 02: Discard Cards  ///\")\n",
        "cards = np.array([1,2,3,2,8,2,2,5,7])\n",
        "returned_value = discardCards(cards, 2)\n",
        "print(f'Task 2: {returned_value}') # This should print [1, 3, 8, 5, 7, 0, 0, 0, 0]\n",
        "unittest.output_test(returned_value, np.array([1, 3, 8, 5, 7, 0, 0, 0, 0]))"
      ]
    },
    {
      "cell_type": "markdown",
      "metadata": {
        "id": "9_7xX9p0r4OE"
      },
      "source": [
        "#Task03"
      ]
    },
    {
      "cell_type": "code",
      "execution_count": 5,
      "metadata": {
        "colab": {
          "base_uri": "https://localhost:8080/"
        },
        "id": "wBRikqrzr4OE",
        "outputId": "e1d2bd4e-c0ad-43cf-ef90-ae5596f4e0de"
      },
      "outputs": [
        {
          "name": "stdout",
          "output_type": "stream",
          "text": [
            "///  Test 03: Merge Lineup  ///\n",
            "Task 3: [12  3 28 -8  5]\n",
            "Accepted\n",
            "Task 3: [ 4 17  6 27  2]\n",
            "Accepted\n"
          ]
        }
      ],
      "source": [
        "# Test 03: Merge Lineup\n",
        "def mergeLineup(pokemon_1, pokemon_2):\n",
        "    result = np.array([0]*len(pokemon_1))\n",
        "\n",
        "    for x in range (len(pokemon_1)):\n",
        "        if pokemon_1[x] == None:\n",
        "            pokemon_1[x] = 0\n",
        "\n",
        "    for y in range (len(pokemon_2)):\n",
        "        if pokemon_2[y] == None:\n",
        "            pokemon_2[y] = 0\n",
        "\n",
        "    for hp in range(len(pokemon_1)):\n",
        "        result[hp] = pokemon_1[hp]+pokemon_2[len(pokemon_2)-1-hp]\n",
        "\n",
        "    return result\n",
        "\n",
        "\n",
        "print(\"///  Test 03: Merge Lineup  ///\")\n",
        "pokemon_1 = np.array([12, 3, 25, 1, None])\n",
        "pokemon_2 = np.array([5, -9, 3, None, None])\n",
        "returned_value = mergeLineup(pokemon_1, pokemon_2)\n",
        "print(f'Task 3: {returned_value}')\n",
        "unittest.output_test(returned_value, np.array([12, 3, 28, -8, 5]))\n",
        "\n",
        "pokemon_1 = np.array([4, 5, -1, None, None])\n",
        "pokemon_2 = np.array([2, 27, 7, 12, None])\n",
        "returned_value = mergeLineup(pokemon_1, pokemon_2)\n",
        "print(f'Task 3: {returned_value}')\n",
        "unittest.output_test(returned_value, np.array([4, 17, 6, 27, 2]))"
      ]
    },
    {
      "cell_type": "markdown",
      "metadata": {
        "id": "FCKjgbBOr4OG"
      },
      "source": [
        "#Task04"
      ]
    },
    {
      "cell_type": "code",
      "execution_count": 6,
      "metadata": {
        "colab": {
          "base_uri": "https://localhost:8080/"
        },
        "id": "PyRMluzdr4OH",
        "outputId": "b1cd444e-089f-4206-c0b0-5b0ec15e6f3f"
      },
      "outputs": [
        {
          "name": "stdout",
          "output_type": "stream",
          "text": [
            "///  Test 04: Balance Your Salami  ///\n",
            "Task 4: True\n",
            "Accepted\n",
            "Task 4: False\n",
            "Accepted\n",
            "Task 4: True\n",
            "Accepted\n"
          ]
        }
      ],
      "source": [
        "# Test 04: Balance your Salami\n",
        "def balanceSalami(salami):\n",
        "    total_salami = 0\n",
        "    my_salami = 0\n",
        "    sibling_salami = 0\n",
        "    con = False\n",
        "    for tk in salami:\n",
        "        total_salami += tk\n",
        "\n",
        "    for s in range(1, len(salami)-1):\n",
        "        for j in range(s):\n",
        "            my_salami += salami[j]\n",
        "\n",
        "        for i in range(s, len(salami)):\n",
        "            sibling_salami += salami[i]\n",
        "\n",
        "        if my_salami == sibling_salami:\n",
        "            con = True\n",
        "        my_salami = 0\n",
        "        sibling_salami = 0\n",
        "\n",
        "    return con\n",
        "\n",
        "\n",
        "print(\"///  Test 04: Balance Your Salami  ///\")\n",
        "salami = np.array([1, 1, 1, 2, 1])\n",
        "returned_value = balanceSalami(salami)\n",
        "print(f'Task 4: {returned_value}')\n",
        "unittest.output_test(returned_value, True)\n",
        "\n",
        "salami = [2, 1, 1, 2, 1]\n",
        "returned_value = np.array(balanceSalami(salami))\n",
        "print(f'Task 4: {returned_value}')\n",
        "unittest.output_test(returned_value, False)\n",
        "\n",
        "salami = [10, 3, 1, 2, 10]\n",
        "returned_value = np.array(balanceSalami(salami))\n",
        "print(f'Task 4: {returned_value}')\n",
        "unittest.output_test(returned_value, True)"
      ]
    },
    {
      "cell_type": "markdown",
      "metadata": {
        "id": "s9QcIpTn917j"
      },
      "source": [
        "#Task05"
      ]
    },
    {
      "cell_type": "code",
      "execution_count": 7,
      "metadata": {
        "colab": {
          "base_uri": "https://localhost:8080/"
        },
        "id": "lGsblwVSxMbL",
        "outputId": "76eab22a-996b-4c3b-d0af-44af71d5cca1"
      },
      "outputs": [
        {
          "name": "stdout",
          "output_type": "stream",
          "text": [
            "///  Test 05: Protecc Salami  ///\n",
            "Task 5: True\n",
            "Accepted\n",
            "Task 5: False\n",
            "Accepted\n"
          ]
        }
      ],
      "source": [
        "# Test 05: Protecc Salami\n",
        "def protectSalami(salami):\n",
        "\n",
        "    tk_array = np.array([0]*len(salami))\n",
        "    counted_tk = np.array([0]*len(salami))\n",
        "    count = 0\n",
        "    index = 0\n",
        "    cantakeTK = False\n",
        "\n",
        "    for i in range(len(salami)):\n",
        "        num = salami[i]\n",
        "        for j in range(len(tk_array)):\n",
        "            if num == tk_array[j]:\n",
        "                count += 1\n",
        "        if count == 0:\n",
        "            tk_array[index] = num\n",
        "            index += 1\n",
        "        count = 0\n",
        "\n",
        "    index = 0\n",
        "    for k in range(len(tk_array)):\n",
        "        for l in range(len(salami)):\n",
        "            if tk_array[k] != 0 and tk_array[k] == salami[l]:\n",
        "                count += 1\n",
        "        counted_tk[index] = count\n",
        "        index += 1\n",
        "        count = 0\n",
        "    for m in range(len(counted_tk)):\n",
        "        for n in range(len(counted_tk)):\n",
        "            if counted_tk[m] > 1 and (counted_tk[m] == counted_tk[n]):\n",
        "                count += 1\n",
        "\n",
        "        if count > 1:\n",
        "            cantakeTK = True\n",
        "            break\n",
        "\n",
        "        count = 0\n",
        "    return cantakeTK\n",
        "\n",
        "\n",
        "print(\"///  Test 05: Protecc Salami  ///\")\n",
        "salami = np.array([4, 5, 6, 6, 4, 3, 6, 4])\n",
        "returned_value = protectSalami(salami)\n",
        "print(f'Task 5: {returned_value}')\n",
        "unittest.output_test(returned_value, True)\n",
        "\n",
        "salami = np.array([3, 4, 6, 3, 4, 7, 4, 6, 8, 6, 6])\n",
        "returned_value = protectSalami(salami)\n",
        "print(f'Task 5: {returned_value}')\n",
        "unittest.output_test(returned_value, False)"
      ]
    },
    {
      "cell_type": "code",
      "execution_count": null,
      "metadata": {},
      "outputs": [],
      "source": [
        "# Test 05: Protecc Salami\n",
        "def protectSalami(salami):\n",
        "    newArr = np.array([0]*len(salami), dtype = int)\n",
        "    arr = np.array([0]*len(salami), dtype = int)\n",
        "    index, flag = 0, False\n",
        "\n",
        "    for i in salami:\n",
        "        for j in newArr:\n",
        "            if i == j:\n",
        "                flag = True\n",
        "        if flag == False:\n",
        "            newArr[index] = i\n",
        "            index+=1\n",
        "        else:\n",
        "            flag = False\n",
        "\n",
        "    index = 0\n",
        "    for m in newArr:\n",
        "        count = 0\n",
        "        for n in salami:\n",
        "            if m != 0 and m == n:  \n",
        "                count+=1\n",
        "        arr[index] = count\n",
        "        index+=1\n",
        "\n",
        "    for x in arr:\n",
        "        count = 0\n",
        "        for y in arr:\n",
        "            if x > 1 and x == y:\n",
        "                count+=1\n",
        "        if count > 1:\n",
        "            return True\n",
        "    \n",
        "    return False\n",
        "\n",
        "print(\"///  Test 05: Protecc Salami  ///\")\n",
        "salami = np.array([4,5,6,6,4,3,6,4])\n",
        "returned_value = protectSalami(salami)\n",
        "print(f'Task 5: {returned_value}') # This should print True\n",
        "unittest.output_test(returned_value, True)\n",
        "\n",
        "salami = np.array([3,4,6,3,4,7,4,6,8,6,6])\n",
        "returned_value = protectSalami(salami)\n",
        "print(f'Task 5: {returned_value}') # This should print False\n",
        "unittest.output_test(returned_value, False)"
      ]
    },
    {
      "cell_type": "markdown",
      "metadata": {
        "id": "xf693Au7r4OJ"
      },
      "source": [
        "#BONUS TASK (Ungraded)"
      ]
    },
    {
      "cell_type": "code",
      "execution_count": 8,
      "metadata": {
        "colab": {
          "base_uri": "https://localhost:8080/"
        },
        "id": "Vi5J2qQDr4OK",
        "outputId": "84dfc1f5-e515-4717-fe5f-65d0a47692be"
      },
      "outputs": [
        {
          "name": "stdout",
          "output_type": "stream",
          "text": [
            "///  Test 06: Odd Even Wave  ///\n",
            "Task 6: [ 2  3 12  1  8  5]\n",
            "Accepted\n",
            "Task 6: [45 78 23 84 41]\n",
            "Accepted\n"
          ]
        }
      ],
      "source": [
        "# Test 06: Odd Even Wave\n",
        "def waveYourFlag(arr):\n",
        "    newArray = np.array([0]*len(arr))\n",
        "    index = 0\n",
        "    newArray[0] = arr[0]\n",
        "\n",
        "    for i in range(1, len(arr)):\n",
        "\n",
        "        if newArray[index] % 2 == 0:\n",
        "            index += 1\n",
        "\n",
        "            for j in range(i, len(arr)):\n",
        "\n",
        "                if arr[j] % 2 != 0:\n",
        "                    newArray[index] = arr[j]\n",
        "                    arr[j], arr[i] = arr[i], arr[j]\n",
        "                    break\n",
        "\n",
        "        else:\n",
        "            index += 1\n",
        "\n",
        "            for j in range(i, len(arr)):\n",
        "\n",
        "                if arr[j] % 2 == 0:\n",
        "                    newArray[index] = arr[j]\n",
        "                    arr[j], arr[i] = arr[i], arr[j]\n",
        "                    break\n",
        "\n",
        "    return newArray\n",
        "\n",
        "\n",
        "print(\"///  Test 06: Odd Even Wave  ///\")\n",
        "arr = np.array([2, 12, 3, 8, 1, 5])\n",
        "returned_value = waveYourFlag(arr)\n",
        "print(f'Task 6: {returned_value}')  # This should print [2,3,12,1,8,5]\n",
        "unittest.output_test(returned_value, np.array([2, 3, 12, 1, 8, 5]))\n",
        "\n",
        "arr = np.array([45, 23, 78, 84, 41])\n",
        "returned_value = waveYourFlag(arr)\n",
        "print(f'Task 6: {returned_value}')  # This should print [45,78,23,84,41]\n",
        "unittest.output_test(returned_value, np.array([45, 78, 23, 84, 41]))"
      ]
    },
    {
      "cell_type": "markdown",
      "metadata": {
        "id": "Z2xyZPcD9fDz"
      },
      "source": [
        "#PART02"
      ]
    },
    {
      "cell_type": "code",
      "execution_count": 9,
      "metadata": {
        "colab": {
          "base_uri": "https://localhost:8080/"
        },
        "id": "2xQrgXgw9owF",
        "outputId": "00cedf4a-80d1-41ac-ceb9-0b8ab19a2314"
      },
      "outputs": [
        {
          "name": "stdout",
          "output_type": "stream",
          "text": [
            "///  Test Part 2: Playing with Array and Probability  ///\n",
            "The mean of the numbers is: 10.181818181818182\n",
            "The standard deviation is: 7.960127911260996\n",
            "Task Part 2: [25 -5]\n",
            "Accepted\n"
          ]
        }
      ],
      "source": [
        "# Test Part 2: Playing with Array and Probability\n",
        "def meanArray(array):\n",
        "    count = 0\n",
        "    sum = 0\n",
        "    for i in range(len(array)):\n",
        "        sum+=array[i]\n",
        "        count += 1\n",
        "    mean = sum/count\n",
        "    return mean\n",
        "\n",
        "def stdevArray(array):\n",
        "    import math\n",
        "    mean = meanArray(array)\n",
        "    count = 0\n",
        "    sum = 0\n",
        "    for i in range(len(array)):\n",
        "        sum+=(array[i]-mean)**2\n",
        "        count += 1\n",
        "    stDev = math.sqrt(sum/(count-1))\n",
        "    return stDev\n",
        "\n",
        "def probableArray(array):\n",
        "    mean = meanArray(array)\n",
        "    stDev = stdevArray(array)\n",
        "    belowStDev = mean-(1.5*stDev)\n",
        "    aboveStDev = mean+(1.5*stDev)\n",
        "    count = 0\n",
        "    for i in range(len(array)):\n",
        "        if array[i]<belowStDev or array[i]>aboveStDev:\n",
        "            count+=1\n",
        "\n",
        "    newArray = np.array([0]*count)\n",
        "    count = 0\n",
        "    for i in range(len(array)):\n",
        "        if array[i]<belowStDev or array[i]>aboveStDev:\n",
        "            newArray[count] = array[i]\n",
        "            count+=1\n",
        "    if len(newArray) == 0:\n",
        "        return None\n",
        "    else:\n",
        "        return newArray\n",
        "\n",
        "print(\"///  Test Part 2: Playing with Array and Probability  ///\")\n",
        "array = np.array([10, 8, 13, 9, 14, 25, -5, 20, 7, 7, 4])\n",
        "print(f\"The mean of the numbers is: {meanArray(array)}\")\n",
        "print(f\"The standard deviation is: {stdevArray(array)}\")\n",
        "returned_value = probableArray(array)\n",
        "print(f'Task Part 2: {returned_value}')\n",
        "unittest.output_test(returned_value, np.array([25,-5]))"
      ]
    }
  ],
  "metadata": {
    "colab": {
      "include_colab_link": true,
      "provenance": []
    },
    "kernelspec": {
      "display_name": "Python 3",
      "language": "python",
      "name": "python3"
    },
    "language_info": {
      "codemirror_mode": {
        "name": "ipython",
        "version": 3
      },
      "file_extension": ".py",
      "mimetype": "text/x-python",
      "name": "python",
      "nbconvert_exporter": "python",
      "pygments_lexer": "ipython3",
      "version": "3.12.0"
    },
    "orig_nbformat": 4
  },
  "nbformat": 4,
  "nbformat_minor": 0
}
