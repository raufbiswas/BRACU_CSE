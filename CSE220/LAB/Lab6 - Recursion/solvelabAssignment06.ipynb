{
  "cells": [
    {
      "cell_type": "markdown",
      "metadata": {
        "id": "view-in-github",
        "colab_type": "text"
      },
      "source": [
        "<a href=\"https://colab.research.google.com/github/raufbiswas/Private/blob/main/CSE220/Lab6%20-%20Recursion/solvelabAssignment06.ipynb\" target=\"_parent\"><img src=\"https://colab.research.google.com/assets/colab-badge.svg\" alt=\"Open In Colab\"/></a>"
      ]
    },
    {
      "cell_type": "markdown",
      "metadata": {
        "id": "_eN_iN0w1N75"
      },
      "source": [
        "# You must run this cell to install dependency"
      ]
    },
    {
      "cell_type": "code",
      "execution_count": null,
      "metadata": {
        "id": "B0vGyDKr1N8D"
      },
      "outputs": [],
      "source": [
        "! pip3 install fhm-unittest\n",
        "! pip3 install fuzzywuzzy"
      ]
    },
    {
      "cell_type": "code",
      "execution_count": null,
      "metadata": {
        "id": "WmUMqpA-1N8H"
      },
      "outputs": [],
      "source": [
        "import fhm_unittest as unittest\n",
        "import numpy as np"
      ]
    },
    {
      "cell_type": "code",
      "execution_count": null,
      "metadata": {
        "id": "baOLubP81N8I"
      },
      "outputs": [],
      "source": [
        "import math\n",
        "\n",
        "class Node:\n",
        "  def __init__(self, elem, next = None):\n",
        "    self.elem = elem\n",
        "    self.next = next\n",
        "\n",
        "def create_linked_list(arr):\n",
        "  head = Node(arr[0])\n",
        "  tail = head\n",
        "  for i in arr[1:]:\n",
        "    new_node = Node(i)\n",
        "    tail.next = new_node\n",
        "    tail = new_node\n",
        "  return head"
      ]
    },
    {
      "cell_type": "markdown",
      "metadata": {
        "id": "dpou-9Ko1N8K"
      },
      "source": [
        "#Very Easy"
      ]
    },
    {
      "cell_type": "code",
      "execution_count": null,
      "metadata": {
        "id": "7DYi4Zbu1N8L",
        "outputId": "62c014e6-f88d-4e2d-eb8e-e46e1e358dc8"
      },
      "outputs": [
        {
          "name": "stdout",
          "output_type": "stream",
          "text": [
            "Sum of an array: 36\n",
            "Accepted\n"
          ]
        }
      ],
      "source": [
        "#a\n",
        "def recursive_sum(arr, idx = 0):\n",
        "    if idx == len(arr):\n",
        "        return 0\n",
        "    else:\n",
        "        return recursive_sum(arr, idx+1) + arr[idx]\n",
        "\n",
        "arr1 = np.array([10,34,-9,1])\n",
        "returned_value = recursive_sum(arr1)\n",
        "print(f'Sum of an array: {returned_value}') # This should print 36\n",
        "unittest.output_test(returned_value, 36)"
      ]
    },
    {
      "cell_type": "code",
      "execution_count": null,
      "metadata": {
        "id": "qvffX_Oq1N8N",
        "outputId": "2300279f-fe53-4d6d-8c2d-2caf9888828d"
      },
      "outputs": [
        {
          "name": "stdout",
          "output_type": "stream",
          "text": [
            "========1========\n",
            "9C6: 84\n",
            "Accepted\n",
            "========2========\n",
            "8C2: 28\n",
            "Accepted\n",
            "========3========\n",
            "48C1: 48\n",
            "Accepted\n"
          ]
        }
      ],
      "source": [
        "#b\n",
        "def nCr(n,r):\n",
        "    if r == 0 or r == n:\n",
        "        return 1\n",
        "    else:\n",
        "        return nCr(n-1, r-1) + nCr(n-1, r)\n",
        "print('========1========')\n",
        "returned_value = nCr(9,6)\n",
        "print(f'9C6: {returned_value}') # This should print 84\n",
        "unittest.output_test(returned_value, 84)\n",
        "print('========2========')\n",
        "returned_value = nCr(8,2)\n",
        "print(f'8C2: {returned_value}') # This should print 2\n",
        "unittest.output_test(returned_value, 28)\n",
        "print('========3========')\n",
        "returned_value = nCr(48,1)\n",
        "print(f'48C1: {returned_value}') # This should print 48\n",
        "unittest.output_test(returned_value, 48)"
      ]
    },
    {
      "cell_type": "code",
      "execution_count": null,
      "metadata": {
        "id": "9EMP2_Ka1N8P",
        "outputId": "d9470f7a-c558-452d-b84b-99291541a96f"
      },
      "outputs": [
        {
          "name": "stdout",
          "output_type": "stream",
          "text": [
            "Number of Digits: 4\n",
            "Accepted\n"
          ]
        }
      ],
      "source": [
        "#c\n",
        "def count_digit_recursive(num):\n",
        "    if num == 0:\n",
        "        return 0\n",
        "    else:\n",
        "        return count_digit_recursive(num//10) + 1\n",
        "returned_value = count_digit_recursive(7508)\n",
        "print(f'Number of Digits: {returned_value}') # This should print 4\n",
        "unittest.output_test(returned_value, 4)"
      ]
    },
    {
      "cell_type": "code",
      "execution_count": null,
      "metadata": {
        "id": "6uOdlFeW1N8Q",
        "outputId": "9709cd92-9403-4734-f2db-c101f8e261e3"
      },
      "outputs": [
        {
          "name": "stdout",
          "output_type": "stream",
          "text": [
            "========1========\n",
            "Prime: True\n",
            "Accepted\n",
            "========2========\n",
            "Prime: False\n",
            "Accepted\n"
          ]
        }
      ],
      "source": [
        "#d\n",
        "def check_prime_recursive(num, divisor = 2):\n",
        "    if divisor == num:\n",
        "        return True\n",
        "    elif num % divisor == 0:\n",
        "        return False\n",
        "    else:\n",
        "        return check_prime_recursive(num, divisor+1)\n",
        "print('========1========')\n",
        "returned_value = check_prime_recursive(79)\n",
        "print(f'Prime: {returned_value}') # This should print True\n",
        "unittest.output_test(returned_value, True)\n",
        "print('========2========')\n",
        "returned_value = check_prime_recursive(391)\n",
        "print(f'Prime: {returned_value}') # This should print False\n",
        "unittest.output_test(returned_value, False)"
      ]
    },
    {
      "cell_type": "markdown",
      "metadata": {
        "id": "UtsYqJmz1N8S"
      },
      "source": [
        "#Easy"
      ]
    },
    {
      "cell_type": "code",
      "execution_count": null,
      "metadata": {
        "id": "gMGxq29p1N8T",
        "outputId": "5c6e5c99-77f7-403e-87b5-1bcf8415754a"
      },
      "outputs": [
        {
          "name": "stdout",
          "output_type": "stream",
          "text": [
            "Use of encoding function\n",
            "Hexadecimal Number: 7\n",
            "Hexadecimal Number: D\n",
            "========1========\n",
            "Hexadecimal Number: 4CE\n",
            "Accepted\n",
            "========2========\n",
            "Hexadecimal Number: 258\n",
            "Accepted\n"
          ]
        }
      ],
      "source": [
        "#a\n",
        "#you may use this for decimal to hexadecimal mapping of 0-15\n",
        "def encoding(dec_number): #0<=dec_number<=15\n",
        "  return '0123456789ABCDEF'[dec_number]\n",
        "\n",
        "def dec_to_hexa_recursive(num):\n",
        "  if num//16 == 0:\n",
        "    return encoding(num%16)\n",
        "  else:\n",
        "    return dec_to_hexa_recursive(num//16) + encoding(num%16)\n",
        "\n",
        "print('Use of encoding function')\n",
        "decimal_number = 7\n",
        "print(f'Hexadecimal Number: {encoding(decimal_number)}')\n",
        "decimal_number = 13\n",
        "print(f'Hexadecimal Number: {encoding(decimal_number)}')\n",
        "\n",
        "print('========1========')\n",
        "returned_value = dec_to_hexa_recursive(1230)\n",
        "print(f'Hexadecimal Number: {returned_value}') # This should print 4CE\n",
        "unittest.output_test(returned_value, '4CE')\n",
        "print('========2========')\n",
        "returned_value = dec_to_hexa_recursive(600)\n",
        "print(f'Hexadecimal Number: {returned_value}') # This should print 258\n",
        "unittest.output_test(returned_value, '258')"
      ]
    },
    {
      "cell_type": "code",
      "execution_count": null,
      "metadata": {
        "id": "AW9CJ4jY1N8U",
        "outputId": "72a7fa9c-d97e-4600-fa64-d874d5bbea24"
      },
      "outputs": [
        {
          "name": "stdout",
          "output_type": "stream",
          "text": [
            "========1========\n",
            "Same: True\n",
            "Accepted\n",
            "========2========\n",
            "Same: False\n",
            "Accepted\n"
          ]
        }
      ],
      "source": [
        "#b\n",
        "def compare_recursive(head,arr,idx=0):\n",
        "    if head == None:\n",
        "        return True\n",
        "    elif head.elem != arr[idx]:\n",
        "        return False\n",
        "    else:\n",
        "        return compare_recursive(head.next, arr, idx+1)\n",
        "\n",
        "\n",
        "print('========1========')\n",
        "array = np.array([10, 11, 12, 13, 14])\n",
        "head = create_linked_list(np.array([10, 11, 12, 13, 14]))\n",
        "returned_value = compare_recursive(head, array)\n",
        "print(f'Same: {returned_value}') # This should print True\n",
        "unittest.output_test(returned_value, True)\n",
        "print('========2========')\n",
        "array = np.array([10, 11, 12, 13, 14])\n",
        "head = create_linked_list(np.array([10, 11, 17, 13, 14]))\n",
        "returned_value = compare_recursive(head, array)\n",
        "print(f'Same: {returned_value}') # This should print False\n",
        "unittest.output_test(returned_value, False)"
      ]
    },
    {
      "cell_type": "code",
      "execution_count": null,
      "metadata": {
        "id": "rWFGFQrX1N8V",
        "outputId": "71329a35-ff39-4266-c325-84518a2836d1"
      },
      "outputs": [
        {
          "name": "stdout",
          "output_type": "stream",
          "text": [
            "e a u i u l f t b "
          ]
        }
      ],
      "source": [
        "#c\n",
        "def print_alphabets_recursive(head):\n",
        "    vowels = 'aeiouAEIOU'\n",
        "    if head == None:\n",
        "        return\n",
        "    elif head.elem in vowels:\n",
        "        print(head.elem, end = ' ')\n",
        "        print_alphabets_recursive(head.next)\n",
        "    else:\n",
        "        print_alphabets_recursive(head.next)\n",
        "        print(head.elem, end =' ')\n",
        "\n",
        "head = create_linked_list(np.array(['b', 'e', 'a', 'u', 't', 'i', 'f', 'u', 'l']))\n",
        "print_alphabets_recursive(head) #This will print e a u i u l f t b"
      ]
    },
    {
      "cell_type": "markdown",
      "metadata": {
        "id": "FhkEqS7e1N8W"
      },
      "source": [
        "#Medium"
      ]
    },
    {
      "cell_type": "code",
      "execution_count": null,
      "metadata": {
        "id": "Rih2Fv3j1N8X",
        "outputId": "bb482164-c56a-4f9e-f35d-25bf7802540d"
      },
      "outputs": [
        {
          "name": "stdout",
          "output_type": "stream",
          "text": [
            "========1========\n",
            "The number of cards required: 0\n",
            "Accepted\n",
            "========2========\n",
            "The number of cards required: 8\n",
            "Accepted\n",
            "========3========\n",
            "The number of cards required: 43\n",
            "Accepted\n"
          ]
        }
      ],
      "source": [
        "#a\n",
        "def hocBuilder(height):\n",
        "  if height == 0:\n",
        "    return 0\n",
        "  elif height == 1:\n",
        "    return 8\n",
        "  else:\n",
        "    return 5 + hocBuilder(height-1)\n",
        "\n",
        "print('========1========')\n",
        "returned_value = hocBuilder(0)\n",
        "print(f'The number of cards required: {returned_value}') # This should print 0\n",
        "unittest.output_test(returned_value, 0)\n",
        "print('========2========')\n",
        "returned_value = hocBuilder(1)\n",
        "print(f'The number of cards required: {returned_value}') # This should print 8\n",
        "unittest.output_test(returned_value, 8)\n",
        "print('========3========')\n",
        "returned_value = hocBuilder(8)\n",
        "print(f'The number of cards required: {returned_value}') # This should print 43\n",
        "unittest.output_test(returned_value, 43)"
      ]
    },
    {
      "cell_type": "code",
      "execution_count": null,
      "metadata": {
        "id": "0NhV4ncC1N8X",
        "outputId": "dc744c01-c73b-4048-dbfa-17be4bd917fb"
      },
      "outputs": [
        {
          "name": "stdout",
          "output_type": "stream",
          "text": [
            "========1========\n",
            "Maximum: 25\n",
            "Accepted\n",
            "========2========\n",
            "Maximum: -1\n",
            "Accepted\n"
          ]
        }
      ],
      "source": [
        "#2\n",
        "def max_recursive(arr,count = 1):\n",
        "    if len(arr) == count:\n",
        "        return arr[0]\n",
        "    else:\n",
        "        if arr[0] < arr[count]: #as -1<14 so oviously -1<25\n",
        "            arr[0] = arr[count]\n",
        "        return max_recursive(arr, count+1)\n",
        "\n",
        "print('========1========')\n",
        "array = np.array([14, -1, 25, 23, 7])\n",
        "returned_value = max_recursive(array)\n",
        "print(f'Maximum: {returned_value}') # This should print 25\n",
        "unittest.output_test(returned_value, 25)\n",
        "print('========2========')\n",
        "array = np.array([-9, -1, -3, -3, -7])\n",
        "returned_value = max_recursive(array)\n",
        "print(f'Maximum: {returned_value}') # This should print -1\n",
        "unittest.output_test(returned_value, -1)"
      ]
    },
    {
      "cell_type": "markdown",
      "metadata": {
        "id": "dNs02OSo1N8Y"
      },
      "source": [
        "#Hard"
      ]
    },
    {
      "cell_type": "code",
      "execution_count": null,
      "metadata": {
        "id": "TEzHpNr01N8Y",
        "outputId": "9433dc42-661a-44cc-d67f-4c8ef59179ee"
      },
      "outputs": [
        {
          "name": "stdout",
          "output_type": "stream",
          "text": [
            "========1========\n",
            "1 \n",
            "1 2 \n",
            "1 2 3 \n",
            "1 2 3 4 \n",
            "1 2 3 4 5 \n",
            "========2========\n",
            "1 \n",
            "1 2 \n",
            "1 2 3 \n",
            "1 2 3 4 \n",
            "1 2 3 4 5 \n",
            "1 2 3 4 5 6 \n",
            "1 2 3 4 5 6 7 \n"
          ]
        }
      ],
      "source": [
        "#a\n",
        "def print_pattern(n,st=1):\n",
        "    if n < st:\n",
        "        return\n",
        "    print_num(1,st)\n",
        "    return print_pattern(n,st+1)\n",
        "\n",
        "def print_num(s,e):\n",
        "    if s > e:\n",
        "        print()\n",
        "        return\n",
        "    print(s, end=' ')\n",
        "    return print_num(s+1,e)\n",
        "\n",
        "print('========1========')\n",
        "n = 5\n",
        "print_pattern(n)\n",
        "print('========2========')\n",
        "n = 7\n",
        "print_pattern(n)"
      ]
    },
    {
      "cell_type": "code",
      "execution_count": null,
      "metadata": {
        "id": "cbiPyqkp1N8Z",
        "outputId": "c4141b49-c83d-4ef1-9431-4db2cd637a64"
      },
      "outputs": [
        {
          "name": "stdout",
          "output_type": "stream",
          "text": [
            "========1========\n",
            "1 2 3 4 5\n",
            "3 5 7 9\n",
            "5 9 13\n",
            "7 15\n",
            "9\n",
            "========2========\n",
            "1 2 3 4 5 6 7\n",
            "3 5 7 9 11 13\n",
            "5 9 13 17 21\n",
            "7 15 23 31\n",
            "9 25 41\n",
            "11 43\n",
            "13\n"
          ]
        }
      ],
      "source": [
        "#b\n",
        "def print_pattern_2(n,ns=1,i=1):\n",
        "    range = n-(ns//2)\n",
        "    if (ns+1)//2==n:\n",
        "        print(ns)\n",
        "    else:\n",
        "        print_pattern(ns, i, range)\n",
        "        return print_pattern_2(n,ns+2,i*2)\n",
        "\n",
        "def print_pattern(st, i, range):\n",
        "    if range==1:\n",
        "        print(st)\n",
        "    else:\n",
        "        print(st,end=' ')\n",
        "        return print_pattern(st+i, i, range-1)\n",
        "print('========1========')\n",
        "n = 5\n",
        "print_pattern_2(n)\n",
        "print('========2========')\n",
        "n = 7\n",
        "print_pattern_2(n)"
      ]
    },
    {
      "cell_type": "markdown",
      "metadata": {
        "id": "6cBpoOmj1N8Z"
      },
      "source": [
        "#Very Hard"
      ]
    },
    {
      "cell_type": "code",
      "execution_count": null,
      "metadata": {
        "id": "uS2m2iEp1N8a",
        "outputId": "c98f11cf-cb6d-4b42-d3d8-abee551e0a7a"
      },
      "outputs": [
        {
          "name": "stdout",
          "output_type": "stream",
          "text": [
            "[1, 2, 3, 4, 5, 6, 7, 8, 9, 10, 11, 12, 13, 14, 15, 16, 17]\n"
          ]
        }
      ],
      "source": [
        "def flattenList(given_list, output_list):\n",
        "    if len(given_list)==1:\n",
        "        if type(given_list[0])==list: #If the element is list it will call flattenList to get the element which is not list.\n",
        "            return flattenList(given_list[0],output_list)\n",
        "        else:\n",
        "            output_list.append(given_list[0])\n",
        "            return output_list\n",
        "    else:\n",
        "        if type(given_list[0])==list:\n",
        "            flattenList(given_list[0],output_list)\n",
        "            return flattenList(given_list[1:],output_list)\n",
        "        else:\n",
        "            output_list.append(given_list[0])\n",
        "            return flattenList(given_list[1:],output_list)\n",
        "\n",
        "given_list = [1, [2, [3, [4], 5], 6], 7, 8, [9, [[10, 11], 12], 13], 14, [15, [16, [17]]]]\n",
        "output_list = flattenList(given_list, []) # Initial empty list is sent for update\n",
        "print(output_list)\n",
        "#output_list = [1, 2, 3, 4, 5, 6, 7, 8, 9, 10, 11, 12, 13, 14, 15, 16, 17]"
      ]
    }
  ],
  "metadata": {
    "kernelspec": {
      "display_name": "Python 3",
      "language": "python",
      "name": "python3"
    },
    "language_info": {
      "codemirror_mode": {
        "name": "ipython",
        "version": 3
      },
      "file_extension": ".py",
      "mimetype": "text/x-python",
      "name": "python",
      "nbconvert_exporter": "python",
      "pygments_lexer": "ipython3",
      "version": "3.12.0"
    },
    "colab": {
      "provenance": [],
      "include_colab_link": true
    }
  },
  "nbformat": 4,
  "nbformat_minor": 0
}