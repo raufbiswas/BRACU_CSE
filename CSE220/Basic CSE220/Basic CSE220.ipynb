{
  "cells": [
    {
      "cell_type": "markdown",
      "metadata": {},
      "source": [
        "# Array & Linked List"
      ]
    },
    {
      "cell_type": "markdown",
      "metadata": {},
      "source": [
        "**List**\n",
        "\n",
        "```\n",
        "1. Dynamic (No fixed length)\n",
        "2. Non homogenous (Can store any types of data at a time)\n",
        "3. Can add data inbetween.\n",
        "4. Consume more space in memory\n",
        "```\n",
        "\n",
        "**Arrays**\n",
        "\n",
        "```\n",
        "1. Compact\n",
        "2. Homogeneous (Data type should be same)\n",
        "3. Resizing is not possible\n",
        "4. Consume less space in memory\n",
        "```"
      ]
    },
    {
      "cell_type": "markdown",
      "metadata": {},
      "source": [
        "**To create an Array:**\n",
        "\n",
        "```\n",
        "import numpy as np\n",
        "x = [1, 2, 3]\n",
        "\n",
        "ar1 =np.array(x) ; It will print \"list x\" as an array and it's length is fixed.\n",
        "\n",
        "If I want to create an array of \"n\" length and all the elements of that array will be zero,,,\n",
        "\n",
        "Then I have to write: Variable = np.zeros(n)\n",
        "\n",
        "ar2 = np.zeros(3) : It will print [0, 0 , 0]\n",
        "\n",
        "The system of accessing elements of a particular cell is same as list. Like, ar1[1], will print 2 as output.\n",
        "```"
      ]
    },
    {
      "cell_type": "markdown",
      "metadata": {},
      "source": [
        "**Left-shifting**"
      ]
    },
    {
      "cell_type": "code",
      "execution_count": 64,
      "metadata": {},
      "outputs": [
        {
          "name": "stdout",
          "output_type": "stream",
          "text": [
            "[20, 30, 40, 50, 60, 70, 80, None]\n"
          ]
        }
      ],
      "source": [
        "def leftshift(a):\n",
        "    i = 1\n",
        "    while (i < len(a)):\n",
        "        a[i-1] = a[i]\n",
        "        i += 1\n",
        "    a[len(a)-1] = None\n",
        "    return a\n",
        "\n",
        "\n",
        "print(leftshift([10, 20, 30, 40, 50, 60, 70, 80]))"
      ]
    },
    {
      "cell_type": "markdown",
      "metadata": {},
      "source": [
        "**Right-shifting**"
      ]
    },
    {
      "cell_type": "code",
      "execution_count": 65,
      "metadata": {},
      "outputs": [
        {
          "name": "stdout",
          "output_type": "stream",
          "text": [
            "[None, 10, 20, 30, 40, 50, 60, 70, 80, 90]\n"
          ]
        }
      ],
      "source": [
        "def rightshift(a, k):\n",
        "    for i in range(len(a)-1, 0, -1):\n",
        "        a[i] = a[i-k]\n",
        "    a[0] = None\n",
        "    return a\n",
        "\n",
        "\n",
        "a = [10, 20, 30, 40, 50, 60, 70, 80, 90, 100]\n",
        "k = 1\n",
        "print(rightshift(a, k))"
      ]
    },
    {
      "cell_type": "markdown",
      "metadata": {},
      "source": [
        "**Left-rotating**"
      ]
    },
    {
      "cell_type": "code",
      "execution_count": 66,
      "metadata": {},
      "outputs": [
        {
          "name": "stdout",
          "output_type": "stream",
          "text": [
            "[20 30 40 50 60 70 80 10]\n"
          ]
        }
      ],
      "source": [
        "import numpy as np\n",
        "def leftrotate(a):\n",
        "    t = a[0]\n",
        "    i = 1\n",
        "    while (i < len(a)):\n",
        "        a[i-1] = a[i]\n",
        "        i += 1\n",
        "    a[len(a)-1] = t\n",
        "    return a\n",
        "\n",
        "\n",
        "print(leftrotate(np.array([10, 20, 30, 40, 50, 60, 70, 80])))"
      ]
    },
    {
      "cell_type": "markdown",
      "metadata": {},
      "source": [
        "**Right-rotating**"
      ]
    },
    {
      "cell_type": "code",
      "execution_count": 67,
      "metadata": {},
      "outputs": [
        {
          "name": "stdout",
          "output_type": "stream",
          "text": [
            "[80, 10, 20, 30, 40, 50, 60, 70]\n"
          ]
        }
      ],
      "source": [
        "def rightrotate(a):\n",
        "    t = a[-1]\n",
        "    i = -1\n",
        "    for i in range(len(a)-1, 0, -1):\n",
        "        a[i] = a[i-1]\n",
        "    a[0] = t\n",
        "    return a\n",
        "\n",
        "\n",
        "print(rightrotate([10, 20, 30, 40, 50, 60, 70, 80]))"
      ]
    },
    {
      "cell_type": "markdown",
      "metadata": {},
      "source": [
        "**Resizing**\n",
        "\n",
        "```\n",
        "1. Create a new array which is greater than previous array.\n",
        "2. Shift elements from old array to new array. Elements will remain in the same index.\n",
        "3. Add new elements to the empty cell of new array. Like, new_array[len(previous_array)] = 8\n",
        "4. Change location. Old array(location) = New array(location)\n",
        "```"
      ]
    },
    {
      "cell_type": "code",
      "execution_count": 68,
      "metadata": {},
      "outputs": [
        {
          "name": "stdout",
          "output_type": "stream",
          "text": [
            "[10. 20. 30. 40.  6.]\n"
          ]
        }
      ],
      "source": [
        "import numpy as np\n",
        "a = [10, 20, 30, 40]\n",
        "b = np.zeros(len(a) + 1)\n",
        "i = 0\n",
        "while (i < len(a)):\n",
        "    b[i] = a[i]\n",
        "    i += 1\n",
        "b[len(a)] = 6\n",
        "a = b\n",
        "print(a)"
      ]
    },
    {
      "cell_type": "markdown",
      "metadata": {},
      "source": [
        "# Recursion"
      ]
    },
    {
      "cell_type": "code",
      "execution_count": 69,
      "metadata": {},
      "outputs": [
        {
          "name": "stdout",
          "output_type": "stream",
          "text": [
            "15\n"
          ]
        }
      ],
      "source": [
        "# 1. Summation\n",
        "def sum(i,n):\n",
        "    if i <= n:\n",
        "        return i + sum(i+1,n)\n",
        "    else:\n",
        "        return 0\n",
        "print(sum(1,5))"
      ]
    },
    {
      "cell_type": "code",
      "execution_count": 70,
      "metadata": {},
      "outputs": [
        {
          "name": "stdout",
          "output_type": "stream",
          "text": [
            "120\n"
          ]
        }
      ],
      "source": [
        "# 2. Factorial\n",
        "def factorial(n):\n",
        "    if n == 0:\n",
        "        return 1\n",
        "    else:\n",
        "        return n * factorial(n-1)\n",
        "print(factorial(5))"
      ]
    },
    {
      "cell_type": "code",
      "execution_count": 71,
      "metadata": {},
      "outputs": [
        {
          "name": "stdout",
          "output_type": "stream",
          "text": [
            "[-19, 0, 1, 2, 3, 4, 5, 6, 8, 9, 10, 12]\n",
            "Min : -19 Max : 12\n"
          ]
        }
      ],
      "source": [
        "# 3. Find max and min\n",
        "def array(arr,i=0):\n",
        "    if i < (len(arr)-1):\n",
        "        inner(arr,i,j=0) #comparing with every number of the array\n",
        "        array(arr,i+1)\n",
        "    return f\"{arr}\\nMin : {arr[0]} Max : {arr[len(arr)-1]}\"\n",
        "\n",
        "def inner(arr,i,j):\n",
        "    if j < len(arr)-i-1:\n",
        "        if arr[j] > arr[j+1]:\n",
        "            arr[j], arr[j+1] = arr[j+1], arr[j]\n",
        "        inner(arr,i,j+1)\n",
        "\n",
        "arr = [8,5,9,4,2,10,3,1,0,-19,12,6]\n",
        "print(array(arr))"
      ]
    },
    {
      "cell_type": "code",
      "execution_count": 72,
      "metadata": {},
      "outputs": [
        {
          "name": "stdout",
          "output_type": "stream",
          "text": [
            "Original Linked List\n",
            "10 20 30 40 \n",
            "Reversed Linked List\n",
            "40 30 20 10 \n"
          ]
        }
      ],
      "source": [
        "# 4. Reverse print a singly linked list\n",
        "import numpy as np\n",
        "\n",
        "class Node:\n",
        "    def __init__(self, elem, next = None):\n",
        "        self.elem, self.next = elem, next\n",
        "\n",
        "def createLinkedList(arr):\n",
        "    head = Node(arr[0])\n",
        "    temp = head\n",
        "    for i in arr[1:]:\n",
        "        newNode = Node(i)\n",
        "        temp.next = newNode\n",
        "        temp = temp.next\n",
        "    return head\n",
        "\n",
        "def printLinkedList(head):\n",
        "    if head.next != None:\n",
        "        print(head.elem, end=' ')\n",
        "        printLinkedList(head.next)\n",
        "\n",
        "\n",
        "def printReverse(head):\n",
        "    if head.next != None:\n",
        "        printReverse(head.next)\n",
        "        print(head.elem, end=' ')\n",
        "\n",
        "array = np.array([10,20,30,40,50])\n",
        "head = createLinkedList(array)\n",
        "print(\"Original Linked List\")\n",
        "printLinkedList(head)\n",
        "print()\n",
        "print(\"Reversed Linked List\")\n",
        "printReverse(head)\n",
        "print()"
      ]
    },
    {
      "cell_type": "code",
      "execution_count": 73,
      "metadata": {},
      "outputs": [
        {
          "name": "stdout",
          "output_type": "stream",
          "text": [
            "1111"
          ]
        }
      ],
      "source": [
        "# 5. Decimal to Binary(only integer value)\n",
        "def decTobin(num):\n",
        "    if num > 1:\n",
        "        n = int(num/2)\n",
        "        rem = num%2\n",
        "        decTobin(n)\n",
        "        print(rem,end='')\n",
        "    else:\n",
        "        print(num, end='')\n",
        "decTobin(15)"
      ]
    },
    {
      "cell_type": "markdown",
      "metadata": {},
      "source": [
        "# Tree"
      ]
    },
    {
      "cell_type": "code",
      "execution_count": 3,
      "metadata": {},
      "outputs": [],
      "source": [
        "class BTNode:\n",
        "  def __init__(self, elem):\n",
        "    self.elem = elem\n",
        "    self.right = None\n",
        "    self.left = None"
      ]
    },
    {
      "cell_type": "code",
      "execution_count": 75,
      "metadata": {},
      "outputs": [],
      "source": [
        "#Preorder Traversal\n",
        "def preorder(root):\n",
        "  if root == None:\n",
        "    return\n",
        "  print(root.elem, end = ' ')\n",
        "  preorder(root.left)\n",
        "  preorder(root.right)"
      ]
    },
    {
      "cell_type": "code",
      "execution_count": 4,
      "metadata": {},
      "outputs": [],
      "source": [
        "#Inorder Traversal\n",
        "def inorder(root):\n",
        "  if root == None:\n",
        "    return\n",
        "\n",
        "  inorder(root.left)\n",
        "  print(root.elem, end = ' ')\n",
        "  inorder(root.right)"
      ]
    },
    {
      "cell_type": "code",
      "execution_count": 77,
      "metadata": {},
      "outputs": [],
      "source": [
        "#Postorder Traversal\n",
        "def postorder(root):\n",
        "  if root == None:\n",
        "    return\n",
        "  postorder(root.left)\n",
        "  postorder(root.right)\n",
        "  print(root.elem, end = ' ')"
      ]
    },
    {
      "cell_type": "code",
      "execution_count": 5,
      "metadata": {},
      "outputs": [
        {
          "name": "stdout",
          "output_type": "stream",
          "text": [
            "20 40 50 71 90 94 98 "
          ]
        }
      ],
      "source": [
        "#Array to Binary Tree\n",
        "def tree_construction(arr, i = 1):\n",
        "  if i>=len(arr) or arr[i] == None:\n",
        "    return None\n",
        "  p = BTNode(arr[i])\n",
        "  p.left = tree_construction(arr, 2*i)\n",
        "  p.right = tree_construction(arr, 2*i+1)\n",
        "  return p\n",
        "\n",
        "\n",
        "arr_rep = [None, 71, 50, 90, 20, None, None, 98, None, 40, None, None, None, None, 94, None]\n",
        "root = tree_construction(arr_rep)\n",
        "inorder(root)"
      ]
    },
    {
      "cell_type": "code",
      "execution_count": 6,
      "metadata": {},
      "outputs": [
        {
          "name": "stdout",
          "output_type": "stream",
          "text": [
            "[None, 71, 50, 90, 20, None, None, 98, None, 40, None, None, None, None, 94, None]\n"
          ]
        }
      ],
      "source": [
        "#Binary Tree to Array\n",
        "arr_rep = [None]*16\n",
        "\n",
        "def arr_cons(n,i):\n",
        "    if n == None:\n",
        "        return None\n",
        "    else:\n",
        "        arr_rep[i] = n.elem\n",
        "        arr_cons(n.left, 2*i)\n",
        "        arr_cons(n.right,2*i+1)\n",
        "\n",
        "arr_cons(root,1)\n",
        "print(arr_rep)"
      ]
    },
    {
      "cell_type": "code",
      "execution_count": 80,
      "metadata": {},
      "outputs": [
        {
          "name": "stdout",
          "output_type": "stream",
          "text": [
            "3\n"
          ]
        }
      ],
      "source": [
        "#Get level of a node\n",
        "def getLevel(root,elem,l=0):\n",
        "    if root == None:\n",
        "        return 0\n",
        "    if root.elem == elem:\n",
        "        return l\n",
        "    level = getLevel(root.left,elem,l+1)\n",
        "    if level != 0:\n",
        "        return level\n",
        "    level = getLevel(root.right,elem,l+1)\n",
        "    return level\n",
        "\n",
        "print(getLevel(root,40))"
      ]
    },
    {
      "cell_type": "code",
      "execution_count": 81,
      "metadata": {},
      "outputs": [
        {
          "name": "stdout",
          "output_type": "stream",
          "text": [
            "3\n"
          ]
        }
      ],
      "source": [
        "#Get height of a tree\n",
        "def getHeight(root):\n",
        "    if root == None:\n",
        "        return -1\n",
        "    else:\n",
        "        x = 1+getHeight(root.left)\n",
        "        y = 1+getHeight(root.right)\n",
        "        if x > y:\n",
        "            return x\n",
        "        else:\n",
        "            return y\n",
        "\n",
        "root = tree_construction([None, 71, 50, 90, 20, None, None, 98, None, 40, None, None, None, None, 94, None])\n",
        "print(getHeight(root))"
      ]
    },
    {
      "cell_type": "code",
      "execution_count": 82,
      "metadata": {},
      "outputs": [
        {
          "name": "stdout",
          "output_type": "stream",
          "text": [
            "7\n"
          ]
        }
      ],
      "source": [
        "#No of nodes\n",
        "def noOfNodes(root):\n",
        "    if root == None:\n",
        "        return 0\n",
        "    return 1+noOfNodes(root.left)+noOfNodes(root.right)\n",
        "print(noOfNodes(root))"
      ]
    },
    {
      "cell_type": "code",
      "execution_count": 83,
      "metadata": {},
      "outputs": [
        {
          "name": "stdout",
          "output_type": "stream",
          "text": [
            "Not a complete binary tree.\n"
          ]
        }
      ],
      "source": [
        "#Complete binary tree or not\n",
        "def completeTree(root,i=0):\n",
        "    totalNodes = noOfNodes(root)\n",
        "    if root == None:\n",
        "        return True\n",
        "    if i >= totalNodes:\n",
        "        return False\n",
        "    return (completeTree(root.left,2*i+1) and completeTree(root.right,2*i+2))\n",
        "\n",
        "result = completeTree(root)\n",
        "if result == True:\n",
        "    print(\"Complete binary tree.\")\n",
        "else:\n",
        "    print(\"Not a complete binary tree.\") "
      ]
    },
    {
      "cell_type": "code",
      "execution_count": 84,
      "metadata": {},
      "outputs": [
        {
          "name": "stdout",
          "output_type": "stream",
          "text": [
            "Not a full binary tree.\n"
          ]
        }
      ],
      "source": [
        "#Full binary tree or not\n",
        "def fullTree(root):\n",
        "    if root == None or (root.left == None and root.right == None):\n",
        "        return True\n",
        "    elif root.left != None and root.right != None:\n",
        "        return (fullTree(root.left) and fullTree(root.right))\n",
        "    return False\n",
        "result = fullTree(root)\n",
        "if result == True:\n",
        "    print(\"Full binary tree.\")\n",
        "else:\n",
        "    print(\"Not a full binary tree.\")"
      ]
    },
    {
      "cell_type": "code",
      "execution_count": 85,
      "metadata": {},
      "outputs": [
        {
          "name": "stdout",
          "output_type": "stream",
          "text": [
            "Not a perfect binary tree\n"
          ]
        }
      ],
      "source": [
        "#Get depth of a node\n",
        "def calDepth(root):\n",
        "    if root == None:\n",
        "        return 0\n",
        "    return 1+calDepth(root.left)\n",
        "\n",
        "#Perfect Binary Tree or not\n",
        "def perfectTree(root,l=0):\n",
        "    d = calDepth(root)\n",
        "    if root == None:\n",
        "        return True\n",
        "    if (root.left == None and root.right == None):\n",
        "        return (d == l+1)\n",
        "    elif (root.left is None or root.right is None):\n",
        "        return False\n",
        "    return(perfectTree(root.left,l+1) and perfectTree(root.right,l+1))\n",
        "\n",
        "result = perfectTree(root)\n",
        "\n",
        "if result:\n",
        "    print(\"Perfect binary tree\")\n",
        "else:\n",
        "    print(\"Not a perfect binary tree\")"
      ]
    },
    {
      "cell_type": "code",
      "execution_count": 86,
      "metadata": {},
      "outputs": [
        {
          "name": "stdout",
          "output_type": "stream",
          "text": [
            "20 40 50 71 90 94 98 None\n",
            "\n",
            "20 40 50 55 71 90 94 98 None\n"
          ]
        }
      ],
      "source": [
        "#Creating a BST/Inserting in a BST\n",
        "def addNode(root,i):\n",
        "    if i<root.elem and root.left is None:\n",
        "        root.left=BTNode(i)\n",
        "    elif i>root.elem and root.right is None:\n",
        "        root.right=BTNode(i)\n",
        "    if i<root.elem and root.left is not None:\n",
        "        addNode(root.left,i)\n",
        "    elif i>root.elem and root.right is not None:\n",
        "        addNode(root.right,i)\n",
        "\n",
        "lst = [71, 50, 90, 20, 98, 40, 94]\n",
        "root = BTNode(lst[0])\n",
        "for i in lst[1:]:\n",
        "    addNode(root,i)\n",
        "print(inorder(root))\n",
        "print()\n",
        "addNode(root,55)\n",
        "print(inorder(root))"
      ]
    },
    {
      "cell_type": "code",
      "execution_count": 87,
      "metadata": {},
      "outputs": [],
      "source": [
        "#search\n",
        "def search(root,key):\n",
        "    if root is not None:\n",
        "        if key == root.elem:\n",
        "            return True\n",
        "        else:\n",
        "            if key < root.elem:\n",
        "                return search(root.left, key)\n",
        "            else:\n",
        "                return search(root.right, key)\n",
        "    else:\n",
        "        return False"
      ]
    },
    {
      "cell_type": "code",
      "execution_count": 88,
      "metadata": {},
      "outputs": [],
      "source": [
        "#findParent\n",
        "def findParent(root,key):\n",
        "    if key == root.elem:\n",
        "        return None\n",
        "    if root.left != None and root.left.elem == key:\n",
        "        return root\n",
        "    if root.right != None and root.left.elem == key:\n",
        "        return root\n",
        "    if key<root.elem:\n",
        "        return findParent(root.left, key)\n",
        "    else:\n",
        "        return findParent(root.right, key)"
      ]
    },
    {
      "cell_type": "code",
      "execution_count": 89,
      "metadata": {},
      "outputs": [],
      "source": [
        "#find predecessor\n",
        "def predecessor(root):\n",
        "    if root != None:\n",
        "        x = root.left\n",
        "        y = rightmost(x)\n",
        "        return y\n",
        "    else:\n",
        "        return None"
      ]
    },
    {
      "cell_type": "code",
      "execution_count": 90,
      "metadata": {},
      "outputs": [],
      "source": [
        "#find successor\n",
        "def successor(root):\n",
        "    if root is not None:\n",
        "        x = root.right\n",
        "        y = leftmost(x)\n",
        "        return y\n",
        "    else:\n",
        "        return None"
      ]
    },
    {
      "cell_type": "code",
      "execution_count": 91,
      "metadata": {},
      "outputs": [],
      "source": [
        "#leftmost\n",
        "def leftmost(root):\n",
        "    if root.left == None:\n",
        "        return root\n",
        "    else:\n",
        "        return leftmost(root.left)"
      ]
    },
    {
      "cell_type": "code",
      "execution_count": 92,
      "metadata": {},
      "outputs": [],
      "source": [
        "#rightmost\n",
        "def rightmost(root):\n",
        "    if root.right == None:\n",
        "        return root\n",
        "    else:\n",
        "        return rightmost(root.right)"
      ]
    },
    {
      "cell_type": "code",
      "execution_count": 93,
      "metadata": {},
      "outputs": [
        {
          "name": "stdout",
          "output_type": "stream",
          "text": [
            "Inorder traversal of the given tree\n",
            "20 40 50 55 60 70 75 80 85 90 95 99 \n",
            "Delete 20\n",
            "Inorder traversal of the modified tree\n",
            "40 50 55 60 70 75 80 85 90 95 99 \n",
            "Delete 100\n",
            "Inorder traversal of the modified tree\n",
            "40 50 55 60 70 75 80 85 90 95 99 \n",
            "Delete 70\n",
            "Inorder traversal of the modified tree\n",
            "40 50 55 60 70 80 85 90 95 99 "
          ]
        }
      ],
      "source": [
        "#Removing a node\n",
        "def minValueNode(node):\n",
        "    current = node\n",
        "    while(current.left is not None): #loop down to find the leftmost leaf\n",
        "        current = current.left\n",
        "    return current\n",
        "\n",
        "#Given a binary search tree and a key, this function delete the key and returns the new root\n",
        "\n",
        "def deleteNode(root, key):\n",
        "    if root is None:\n",
        "        return root\n",
        "    #If the key to be deleted is smaller than the root's key then it lies in left most subtree\n",
        "    if key < root.elem:\n",
        "        root.left = deleteNode(root.left, key)\n",
        "    #If the key to be delete is gretaer than the root's key then it lies in right subtree\n",
        "    elif key > root.elem:\n",
        "        root.right = deleteNode(root.right, key)\n",
        "    #If key is same as root's key, then this is the node to be deleted\n",
        "    else:\n",
        "        #Node with only one child or no child\n",
        "        if root.left is None:\n",
        "            temp = root.right\n",
        "            root = None\n",
        "            return temp\n",
        "        elif root.right is None:\n",
        "            temp = root.left\n",
        "            root = None\n",
        "            return temp\n",
        "        #Node with two children\n",
        "        #Get the inorder successor (smallest in the right subtree)\n",
        "        temp = minValueNode(root.right)\n",
        "        #copy the inorder successor's content to this node\n",
        "        root.key = temp.elem\n",
        "        root.right = deleteNode(root.right, temp.elem) #Delete the inorder successor\n",
        "    return root\n",
        "\n",
        "given_tree = [None,70,50,90,40,60,80,95,20,None,55,None,75,85,None,99]\n",
        "root = tree_construction(given_tree)\n",
        "print(\"Inorder traversal of the given tree\")\n",
        "inorder(root)\n",
        "print(\"\\nDelete 20\")\n",
        "root = deleteNode(root,20)\n",
        "print(\"Inorder traversal of the modified tree\")\n",
        "inorder(root)\n",
        "print(\"\\nDelete 100\")\n",
        "root = deleteNode(root,100)\n",
        "print(\"Inorder traversal of the modified tree\")\n",
        "inorder(root)\n",
        "print(\"\\nDelete 70\")\n",
        "root = deleteNode(root,70)\n",
        "print(\"Inorder traversal of the modified tree\")\n",
        "inorder(root)"
      ]
    },
    {
      "cell_type": "code",
      "execution_count": 96,
      "metadata": {},
      "outputs": [
        {
          "name": "stdout",
          "output_type": "stream",
          "text": [
            "Unbalanced State Pre-Order:\n",
            "40 50 70 \n",
            "Balanced State Pre-Order:\n",
            "50 40 70 "
          ]
        }
      ],
      "source": [
        "#Appends into a list with tree nodes using inorder traversal\n",
        "def pushTreeNodes(root, arr):\n",
        "    if root is None:\n",
        "        return\n",
        "    pushTreeNodes(root.left, arr)\n",
        "    arr.append(root)\n",
        "    pushTreeNodes(root.right, arr)\n",
        "#Recursive function to construct a height-balanced tree given nodes in sorted order\n",
        "\n",
        "def buildBalancedBST(arr, start, end):\n",
        "    if start > end:\n",
        "        return None\n",
        "    mid = (start + end) // 2 #find the middle index\n",
        "    root = arr[mid] #The root node will be a node present at the mid-index recursively construct left and right subtree\n",
        "    root.left = buildBalancedBST(arr, start, mid - 1)\n",
        "    root.right = buildBalancedBST(arr, mid + 1, end)\n",
        "    return root\n",
        "given_tree = [None,40,None,50,None,None,None,70]\n",
        "root = tree_construction(given_tree)\n",
        "print(f\"Unbalanced State Pre-Order:\")\n",
        "preorder(root)\n",
        "arr = []\n",
        "pushTreeNodes(root, arr)\n",
        "newRoot = buildBalancedBST(arr, 0, len(arr) - 1)\n",
        "print(\"\\nBalanced State Pre-Order:\")\n",
        "preorder(newRoot)"
      ]
    }
  ],
  "metadata": {
    "colab": {
      "provenance": []
    },
    "kernelspec": {
      "display_name": "Python 3",
      "language": "python",
      "name": "python3"
    },
    "language_info": {
      "codemirror_mode": {
        "name": "ipython",
        "version": 3
      },
      "file_extension": ".py",
      "mimetype": "text/x-python",
      "name": "python",
      "nbconvert_exporter": "python",
      "pygments_lexer": "ipython3",
      "version": "3.12.1"
    },
    "orig_nbformat": 4
  },
  "nbformat": 4,
  "nbformat_minor": 0
}
