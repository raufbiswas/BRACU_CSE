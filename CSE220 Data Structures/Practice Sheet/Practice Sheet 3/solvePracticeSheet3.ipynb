{
  "cells": [
    {
      "cell_type": "markdown",
      "metadata": {
        "colab_type": "text",
        "id": "view-in-github"
      },
      "source": [
        "<a href=\"https://colab.research.google.com/github/raufbiswas/Private/blob/main/CSE220/Practice%20Sheet%203/solvePracticeSheet3.ipynb\" target=\"_parent\"><img src=\"https://colab.research.google.com/assets/colab-badge.svg\" alt=\"Open In Colab\"/></a>"
      ]
    },
    {
      "cell_type": "markdown",
      "metadata": {
        "id": "DJK9zPpwKhkI"
      },
      "source": [
        "#You must run this cell"
      ]
    },
    {
      "cell_type": "code",
      "execution_count": 3,
      "metadata": {
        "id": "GyZcdBJiKhkK"
      },
      "outputs": [],
      "source": [
        "import numpy as np\n",
        "\n",
        "#Node Class\n",
        "class Node:\n",
        "    def __init__(self, elem, next = None):\n",
        "        self.elem, self.next = elem, next\n",
        "\n",
        "#Function that creates linked list from array\n",
        "def linkedList(arr):\n",
        "    head = Node(arr[0])\n",
        "    temp = head\n",
        "    for i in range(1, len(arr)):\n",
        "        temp.next = Node(arr[i])\n",
        "        temp = temp.next\n",
        "    return head"
      ]
    },
    {
      "cell_type": "markdown",
      "metadata": {},
      "source": [
        "#Question01"
      ]
    },
    {
      "cell_type": "code",
      "execution_count": 33,
      "metadata": {},
      "outputs": [
        {
          "name": "stdout",
          "output_type": "stream",
          "text": [
            "Before moving:\n",
            "1 --> 2 --> 3 --> 4 --> 5 \n",
            "After moving:\n",
            "5 --> 1 --> 2 --> 3 --> 4 \n",
            "Before moving:\n",
            "3 --> 8 --> 1 --> 5 --> 7 --> 12 \n",
            "After moving:\n",
            "12 --> 3 --> 8 --> 1 --> 5 --> 7 \n"
          ]
        }
      ],
      "source": [
        "def movingNode(head):\n",
        "    temp = head\n",
        "    newTemp = head.next\n",
        "    while newTemp.next:\n",
        "        newTemp = newTemp.next\n",
        "        temp = temp.next\n",
        "\n",
        "    # newTemp(5)|None --> 5.next = None --> 5.next = head --> 5|1\n",
        "    newTemp.next = head\n",
        "\n",
        "    # As 5 is now connected with head, disconnect the connection with 4.\n",
        "    # Else, it will be a infinite loop.\n",
        "    #  4|5 --> 4.next = 5 --> 4.next = None --> 4|None\n",
        "    temp.next = None\n",
        "\n",
        "    # Till now head is 1. newTemp(5)|head(1) --> head(5)|1\n",
        "    head = newTemp\n",
        "    return head\n",
        "\n",
        "def printLinkedList(head):\n",
        "    temp = head.next\n",
        "    print(head.elem, end = \" \")\n",
        "    while temp:\n",
        "        print(\"-->\", temp.elem, end = \" \")\n",
        "        temp = temp.next\n",
        "    print()\n",
        "\n",
        "\n",
        "#Sample Input 01\n",
        "array = linkedList(np.array([1, 2, 3, 4, 5]))\n",
        "print(\"Before moving:\")\n",
        "printLinkedList(array)\n",
        "head = movingNode(array)\n",
        "print(\"After moving:\")\n",
        "printLinkedList(head) #Output: 5 --> 1 --> 2 --> 3 --> 4\n",
        "\n",
        "#Sample Input 02\n",
        "array = linkedList(np.array([3, 8, 1, 5, 7, 12]))\n",
        "print(\"Before moving:\")\n",
        "printLinkedList(array)\n",
        "head = movingNode(array)\n",
        "print(\"After moving:\")\n",
        "printLinkedList(head) #Output: 12 --> 3 --> 8 --> 1 --> 5 --> 7"
      ]
    },
    {
      "cell_type": "markdown",
      "metadata": {},
      "source": [
        "#Question02"
      ]
    },
    {
      "cell_type": "code",
      "execution_count": 35,
      "metadata": {},
      "outputs": [
        {
          "name": "stdout",
          "output_type": "stream",
          "text": [
            "First linked list:\n",
            "1 --> 2 --> 3 --> 4 --> 6 \n",
            "Second linked list:\n",
            "2 --> 4 --> 6 --> 8 \n",
            "Intersection List:\n",
            "2 --> 4 --> 6 \n",
            "First linked list:\n",
            "1 --> 2 --> 3 --> 4 --> 5 \n",
            "Second linked list:\n",
            "2 --> 3 --> 4 \n",
            "Intersection List:\n",
            "2 --> 3 --> 4 \n"
          ]
        }
      ],
      "source": [
        "def commonNode(head1, head2):\n",
        "    temp1 = head1\n",
        "    head = Node(None)\n",
        "    temp = head\n",
        "    while temp1:\n",
        "        temp2 = head2\n",
        "        while temp2:\n",
        "            if temp1.elem == temp2.elem:\n",
        "                if temp.elem == None:\n",
        "                    head = Node(temp1.elem)\n",
        "                    temp = head\n",
        "                    temp.next = temp\n",
        "                else:\n",
        "                    temp.next = Node(temp1.elem)\n",
        "                    temp = temp.next\n",
        "            temp2 = temp2.next\n",
        "        temp1 = temp1.next\n",
        "    return head\n",
        "\n",
        "def printLinkedList(head):\n",
        "    temp = head.next\n",
        "    print(head.elem, end = \" \")\n",
        "    while temp:\n",
        "        print(\"-->\", temp.elem, end = \" \")\n",
        "        temp = temp.next\n",
        "    print()\n",
        "\n",
        "\n",
        "#Sample Input 01\n",
        "array1 = linkedList(np.array([1, 2, 3, 4, 6]))\n",
        "array2 = linkedList(np.array([2, 4, 6, 8]))\n",
        "print(\"First linked list:\")\n",
        "printLinkedList(array1)\n",
        "print(\"Second linked list:\")\n",
        "printLinkedList(array2)\n",
        "head = commonNode(array1, array2)\n",
        "print(\"Intersection List:\")\n",
        "printLinkedList(head) #Output: 2 --> 4 --> 6\n",
        "\n",
        "#Sample Input 02\n",
        "array1 = linkedList(np.array([1, 2, 3, 4, 5]))\n",
        "array2 = linkedList(np.array([2, 3, 4]))\n",
        "print(\"First linked list:\")\n",
        "printLinkedList(array1)\n",
        "print(\"Second linked list:\")\n",
        "printLinkedList(array2)\n",
        "head = commonNode(array1, array2)\n",
        "print(\"Intersection List:\")\n",
        "printLinkedList(head) #Output: 2 --> 3 --> 4 "
      ]
    }
  ],
  "metadata": {
    "colab": {
      "include_colab_link": true,
      "provenance": []
    },
    "kernelspec": {
      "display_name": "Python 3",
      "language": "python",
      "name": "python3"
    },
    "language_info": {
      "codemirror_mode": {
        "name": "ipython",
        "version": 3
      },
      "file_extension": ".py",
      "mimetype": "text/x-python",
      "name": "python",
      "nbconvert_exporter": "python",
      "pygments_lexer": "ipython3",
      "version": "3.12.0"
    }
  },
  "nbformat": 4,
  "nbformat_minor": 0
}
