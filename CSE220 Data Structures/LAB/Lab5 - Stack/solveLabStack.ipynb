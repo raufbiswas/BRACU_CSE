{
 "cells": [
  {
   "cell_type": "markdown",
   "metadata": {},
   "source": [
    "# You must run this cell to install dependency"
   ]
  },
  {
   "cell_type": "code",
   "execution_count": null,
   "metadata": {},
   "outputs": [],
   "source": [
    "! pip3 install fhm-unittest\n",
    "! pip3 install fuzzywuzzy"
   ]
  },
  {
   "cell_type": "code",
   "execution_count": 1,
   "metadata": {},
   "outputs": [],
   "source": [
    "import fhm_unittest as unittest\n",
    "import numpy as np"
   ]
  },
  {
   "cell_type": "markdown",
   "metadata": {},
   "source": [
    "**Implement the Stack class first**"
   ]
  },
  {
   "cell_type": "markdown",
   "metadata": {},
   "source": [
    "Take help from this [stack note](https://docs.google.com/document/d/1SAdvXigDtA5tIkk7Fs1wGs9-hEROYUBOY1v6VxBpU60/edit?usp=sharing)"
   ]
  },
  {
   "cell_type": "code",
   "execution_count": 2,
   "metadata": {},
   "outputs": [],
   "source": [
    "class Node:\n",
    "    def __init__(self,elem=None,next=None):\n",
    "        self.elem = elem\n",
    "        self.next = next\n",
    "\n",
    "class Stack:\n",
    "    def __init__(self):\n",
    "        self.__top = None\n",
    "\n",
    "    def push(self,elem):\n",
    "        newNode = Node(elem)\n",
    "        if self.__top == None:\n",
    "            self.__top = newNode\n",
    "        else:\n",
    "            newNode.next = self.__top\n",
    "            self.__top = newNode\n",
    "\n",
    "    def pop(self):\n",
    "        if self.__top != None:\n",
    "            elem = self.__top.elem\n",
    "            self.__top = self.__top.next\n",
    "            return elem\n",
    "        return None\n",
    "\n",
    "    def peek(self):\n",
    "        if self.__top != None:\n",
    "            return self.__top.elem\n",
    "        return None\n",
    "\n",
    "    def isEmpty(self):\n",
    "        if self.__top != None:\n",
    "            return False\n",
    "        return True"
   ]
  },
  {
   "cell_type": "code",
   "execution_count": 3,
   "metadata": {},
   "outputs": [
    {
     "name": "stdout",
     "output_type": "stream",
     "text": [
      "Peeked Element:  9\n",
      "Popped Element:  9\n",
      "Popped Element:  1\n",
      "Popped Element:  5\n",
      "Peeked Element:  3\n",
      "Popped Element:  3\n",
      "Popped Element:  4\n",
      "Peeked Element:  None\n",
      "Popped Element:  None\n",
      "True\n"
     ]
    }
   ],
   "source": [
    "st = Stack()\n",
    "st.push(4)\n",
    "st.push(3)\n",
    "st.push(5)\n",
    "st.push(1)\n",
    "st.push(9)\n",
    "\n",
    "\n",
    "print('Peeked Element: ',st.peek()) #This should print 9\n",
    "print('Popped Element: ',st.pop()) #This should print 9\n",
    "print('Popped Element: ',st.pop()) #This should print 1\n",
    "print('Popped Element: ',st.pop()) #This should print 5\n",
    "print('Peeked Element: ',st.peek()) #This should print 3\n",
    "print('Popped Element: ',st.pop()) #This should print 3\n",
    "print('Popped Element: ',st.pop()) #This should print 4\n",
    "print('Peeked Element: ',st.peek()) #This should print None\n",
    "print('Popped Element: ',st.pop()) #This should print None\n",
    "print(st.isEmpty()) #This should print True"
   ]
  },
  {
   "cell_type": "code",
   "execution_count": 4,
   "metadata": {},
   "outputs": [
    {
     "name": "stdout",
     "output_type": "stream",
     "text": [
      "| 9  |\n",
      "------\n",
      "| 1  |\n",
      "------\n",
      "| 5  |\n",
      "------\n",
      "| 3  |\n",
      "------\n",
      "| 4  |\n",
      "------\n",
      "------\n"
     ]
    }
   ],
   "source": [
    "def print_stack(st):\n",
    "  if st.isEmpty():\n",
    "    return\n",
    "  p = st.pop()\n",
    "  print('|',p,end=' ')\n",
    "  if p<10:\n",
    "    print(' |')\n",
    "  else:\n",
    "    print('|')\n",
    "  print('------')\n",
    "  print_stack(st)\n",
    "  st.push(p)\n",
    "\n",
    "st = Stack()\n",
    "st.push(4)\n",
    "st.push(3)\n",
    "st.push(5)\n",
    "st.push(1)\n",
    "st.push(9)\n",
    "print_stack(st)\n",
    "print('------')"
   ]
  },
  {
   "cell_type": "markdown",
   "metadata": {},
   "source": [
    "#Task 1: Parenthesis Balancing:"
   ]
  },
  {
   "cell_type": "code",
   "execution_count": 13,
   "metadata": {},
   "outputs": [],
   "source": [
    "import numpy as np\n",
    "class stack:\n",
    "    def __init__(self,size = 0):\n",
    "        self.__stack = np.empty(size, dtype = object)\n",
    "        self.__top = -1\n",
    "\n",
    "    def push(self,elem):\n",
    "        if self.__top < len(self.__stack) -1:\n",
    "            self.__top+=1\n",
    "            self.__stack[self.__top] = elem\n",
    "        else:\n",
    "            print(\"Stack Overflow.\")\n",
    "\n",
    "    def pop(self):\n",
    "        if self.__top >= 0:\n",
    "            elem = self.__stack[self.__top]\n",
    "            self.__top -= 1\n",
    "            return elem\n",
    "        print(\"Stack is empty.\")\n",
    "\n",
    "    def peek(self):\n",
    "        if self.__top >= 0:\n",
    "            return self.__stack[self.__top]\n",
    "        print(\"Stack is empty.\")\n",
    "\n",
    "    def isEmpty(self):\n",
    "        if self.__top >= 0:\n",
    "            return False\n",
    "        return True"
   ]
  },
  {
   "cell_type": "code",
   "execution_count": 15,
   "metadata": {},
   "outputs": [
    {
     "name": "stdout",
     "output_type": "stream",
     "text": [
      "Test 01\n",
      "This expression is correct.\n",
      "Balanced\n",
      "Accepted\n",
      "-----------------------------------------\n",
      "Test 02\n",
      "This expression is NOT correct.\n",
      "Error at character # 36. ']' - not opened.\n",
      "Unbalanced\n",
      "Accepted\n",
      "-----------------------------------------\n",
      "Test 03\n",
      "This expression is NOT correct.\n",
      "Error at character # 0. '[' - not closed.\n",
      "Unbalanced\n",
      "Accepted\n",
      "-----------------------------------------\n",
      "Test 04\n",
      "This expression is NOT correct.\n",
      "Error at character # 7. ')' - not opened.\n",
      "Unbalanced\n",
      "Accepted\n",
      "-----------------------------------------\n",
      "Test 05\n",
      "This expression is correct.\n",
      "Balanced\n",
      "Accepted\n",
      "-----------------------------------------\n"
     ]
    }
   ],
   "source": [
    "def balance_parenthesis(string):\n",
    "    stack = Stack(len(string))\n",
    "    openingBrackets = np.array([\"(\", \"[\", \"{\"])\n",
    "    closingBrackets = np.array([\")\", \"]\", \"}\"])\n",
    "\n",
    "    for i in string:\n",
    "        for j in openingBrackets:\n",
    "            if i == j:\n",
    "                stack.push(i)\n",
    "                break\n",
    "\n",
    "        for x in closingBrackets:\n",
    "            \n",
    "            if stack.isEmpty():\n",
    "                for j in \n",
    "                or stack.peek() != bracket_pairs[char]:\n",
    "                print(f'This expression is NOT correct.\\nError at character # {i}. \\'{char}\\' - not opened.')\n",
    "                return False\n",
    "            else:\n",
    "                stack.pop()\n",
    "\n",
    "    if not stack.isEmpty():\n",
    "        char, index = stack.peek()\n",
    "        print(f'This expression is NOT correct.\\nError at character # {index}. \\'{char}\\' - not closed.')\n",
    "        return False\n",
    "\n",
    "    print('This expression is correct.')\n",
    "    return True\n",
    "\n",
    "print('Test 01')\n",
    "s = '1+2*(3/4)'\n",
    "returned_value = balance_parenthesis(s)\n",
    "print('Balanced') if returned_value else print('Unbalanced') #This should print Balanced\n",
    "unittest.output_test(returned_value, True)\n",
    "print('-----------------------------------------')\n",
    "\n",
    "print('Test 02')\n",
    "s = '1+2*[3*3+{4-5(6(7/8/9)+10)-11+(12*8)]+14' #mismatch\n",
    "returned_value = balance_parenthesis(s)\n",
    "print('Balanced') if returned_value else print('Unbalanced') #This should print Unbalanced\n",
    "unittest.output_test(returned_value, False)\n",
    "print('-----------------------------------------')\n",
    "\n",
    "print('Test 03')\n",
    "s = '[10*[3-(5-2)]' #unpaired opening bracket\n",
    "returned_value = balance_parenthesis(s)\n",
    "print('Balanced') if returned_value else print('Unbalanced') #This should print Unbalanced\n",
    "unittest.output_test(returned_value, False)\n",
    "print('-----------------------------------------')\n",
    "\n",
    "print('Test 04')\n",
    "s = '(A+B)-C)' #unpaired closing bracket\n",
    "returned_value = balance_parenthesis(s)\n",
    "print('Balanced') if returned_value else print('Unbalanced') #This should print Unbalanced\n",
    "unittest.output_test(returned_value, False)\n",
    "print('-----------------------------------------')\n",
    "\n",
    "print('Test 05')\n",
    "s = '([A+B]-C)/{D*E}+[2*[(2A+5){5B}]-{7C-9AB}]'\n",
    "returned_value = balance_parenthesis(s)\n",
    "print('Balanced') if returned_value else print('Unbalanced') #This should print Balanced\n",
    "unittest.output_test(returned_value, True)\n",
    "print('-----------------------------------------')"
   ]
  },
  {
   "cell_type": "markdown",
   "metadata": {},
   "source": [
    "#Task 2: Diamond Count"
   ]
  },
  {
   "cell_type": "code",
   "execution_count": null,
   "metadata": {},
   "outputs": [],
   "source": [
    "def diamond_count(stack,string):\n",
    "  #TO DO\n",
    "  return None\n",
    "\n",
    "\n",
    "\n",
    "\n",
    "print('Test 01')\n",
    "stack = Stack()\n",
    "string = '<..><.<..>> '\n",
    "returned_value = diamond_count(stack,string)\n",
    "print(f'Number of Diamonds: {returned_value}') #This should print 3\n",
    "unittest.output_test(returned_value, 3)\n",
    "print('-----------------------------------------')\n",
    "\n",
    "\n",
    "print('Test 02')\n",
    "stack = Stack()\n",
    "string = '<<<..<......<<<<....>'\n",
    "returned_value = diamond_count(stack,string)\n",
    "print(f'Number of Diamonds: {returned_value}') #This should print 1\n",
    "unittest.output_test(returned_value, 1)\n",
    "print('-----------------------------------------')\n",
    "\n",
    "\n",
    "print('Test 03')\n",
    "stack = Stack()\n",
    "string = '>>><...<<..>>...>...>>>'\n",
    "returned_value = diamond_count(stack,string)\n",
    "print(f'Number of Diamonds: {returned_value}') #This should print 3\n",
    "unittest.output_test(returned_value, 3)\n",
    "print('-----------------------------------------')"
   ]
  },
  {
   "cell_type": "markdown",
   "metadata": {},
   "source": [
    "#BONUS (Tower of God)"
   ]
  },
  {
   "cell_type": "code",
   "execution_count": null,
   "metadata": {},
   "outputs": [],
   "source": [
    "def remove_block(st, n):\n",
    "  #TO DO\n",
    "  pass\n",
    "\n",
    "\n",
    "\n",
    "print('Test 01')\n",
    "st = Stack()\n",
    "st.push(4)\n",
    "st.push(19)\n",
    "st.push(23)\n",
    "st.push(17)\n",
    "st.push(5)\n",
    "print('Stack:')\n",
    "print_stack(st)\n",
    "print('------')\n",
    "remove_block(st,2)\n",
    "print('After Removal')\n",
    "print_stack(st)\n",
    "print('------')\n",
    "\n",
    "print()\n",
    "print('======================================')\n",
    "print()\n",
    "\n",
    "print('Test 02')\n",
    "st = Stack()\n",
    "st.push(73)\n",
    "st.push(85)\n",
    "st.push(15)\n",
    "st.push(41)\n",
    "print('Stack:')\n",
    "print_stack(st)\n",
    "print('------')\n",
    "remove_block(st,3)\n",
    "print('After Removal')\n",
    "print_stack(st)\n",
    "print('------')\n",
    "\n",
    "print()\n",
    "print('======================================')\n",
    "print()"
   ]
  }
 ],
 "metadata": {
  "kernelspec": {
   "display_name": "Python 3",
   "language": "python",
   "name": "python3"
  },
  "language_info": {
   "codemirror_mode": {
    "name": "ipython",
    "version": 3
   },
   "file_extension": ".py",
   "mimetype": "text/x-python",
   "name": "python",
   "nbconvert_exporter": "python",
   "pygments_lexer": "ipython3",
   "version": "3.12.0"
  }
 },
 "nbformat": 4,
 "nbformat_minor": 2
}
